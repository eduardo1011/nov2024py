{
 "cells": [
  {
   "cell_type": "code",
   "execution_count": null,
   "id": "bc2acf3a",
   "metadata": {},
   "outputs": [],
   "source": []
  },
  {
   "cell_type": "code",
   "execution_count": null,
   "id": "e6690d0f",
   "metadata": {},
   "outputs": [],
   "source": []
  },
  {
   "cell_type": "markdown",
   "id": "b6b4f598",
   "metadata": {},
   "source": [
    "# Ejercicio tarea"
   ]
  },
  {
   "cell_type": "code",
   "execution_count": null,
   "id": "6fc345c4",
   "metadata": {},
   "outputs": [],
   "source": [
    "import warnings\n",
    "warnings.filterwarnings(\"ignore\")"
   ]
  },
  {
   "cell_type": "code",
   "execution_count": null,
   "id": "77798c2f",
   "metadata": {},
   "outputs": [],
   "source": [
    "import pandas as pd"
   ]
  },
  {
   "cell_type": "markdown",
   "id": "e615b747",
   "metadata": {},
   "source": [
    "#### Abrir archivo de excel"
   ]
  },
  {
   "cell_type": "code",
   "execution_count": null,
   "id": "c2cd647f",
   "metadata": {},
   "outputs": [],
   "source": [
    "df = pd.read_excel('Enrichment.xlsx', engine='openpyxl').dropna()"
   ]
  },
  {
   "cell_type": "code",
   "execution_count": null,
   "id": "9c895e80",
   "metadata": {
    "scrolled": true
   },
   "outputs": [],
   "source": [
    "df"
   ]
  },
  {
   "cell_type": "code",
   "execution_count": null,
   "id": "4b639a40",
   "metadata": {},
   "outputs": [],
   "source": []
  },
  {
   "cell_type": "code",
   "execution_count": null,
   "id": "ab72c7e4",
   "metadata": {},
   "outputs": [],
   "source": []
  },
  {
   "cell_type": "markdown",
   "id": "2e684c1b",
   "metadata": {},
   "source": [
    "# <font color = royalblue>Gráfico personalizado</font>\n",
    "\n",
    "## <font color = red>Ejercicio</font>\n",
    "\n",
    "#### A partir  de la tabla `Enrichment.txt` realizar lo siguiente:\n",
    "\n",
    "##### 1) Filtrar la tabla a un FDR < 0.05  \n",
    "##### 2) Hacer un scatter plot usando la columna Term como eje Y y el -log10(FDR) como eje X.\n",
    "##### 3) Agregar como atributo datos de la columna list_count\n",
    "##### 4) Asignar colores a cada uno de los puntos.\n",
    "##### 5) Agregar una la leyenda de escala de tamaños de puntos "
   ]
  },
  {
   "cell_type": "code",
   "execution_count": null,
   "id": "0ab35154",
   "metadata": {},
   "outputs": [],
   "source": []
  },
  {
   "cell_type": "code",
   "execution_count": null,
   "id": "1b00197e",
   "metadata": {},
   "outputs": [],
   "source": []
  },
  {
   "cell_type": "code",
   "execution_count": null,
   "id": "1e5149f3",
   "metadata": {},
   "outputs": [],
   "source": []
  },
  {
   "cell_type": "code",
   "execution_count": null,
   "id": "820091e6",
   "metadata": {},
   "outputs": [],
   "source": []
  },
  {
   "cell_type": "code",
   "execution_count": null,
   "id": "2468632a",
   "metadata": {},
   "outputs": [],
   "source": []
  },
  {
   "cell_type": "code",
   "execution_count": null,
   "id": "080585ff",
   "metadata": {},
   "outputs": [],
   "source": []
  },
  {
   "cell_type": "code",
   "execution_count": null,
   "id": "b1f8c246",
   "metadata": {},
   "outputs": [],
   "source": []
  },
  {
   "cell_type": "code",
   "execution_count": null,
   "id": "0b9b5b11",
   "metadata": {},
   "outputs": [],
   "source": []
  },
  {
   "cell_type": "code",
   "execution_count": null,
   "id": "77c7fde3",
   "metadata": {},
   "outputs": [],
   "source": []
  },
  {
   "cell_type": "code",
   "execution_count": null,
   "id": "dc93dee8",
   "metadata": {},
   "outputs": [],
   "source": []
  },
  {
   "cell_type": "code",
   "execution_count": null,
   "id": "e75b0f76",
   "metadata": {},
   "outputs": [],
   "source": []
  },
  {
   "cell_type": "code",
   "execution_count": null,
   "id": "e8f25e37",
   "metadata": {},
   "outputs": [],
   "source": []
  },
  {
   "cell_type": "code",
   "execution_count": null,
   "id": "3c26e451",
   "metadata": {},
   "outputs": [],
   "source": []
  },
  {
   "cell_type": "markdown",
   "id": "62c5b606",
   "metadata": {},
   "source": [
    "<img src=\"https://i0.wp.com/ncbiinsights.ncbi.nlm.nih.gov/wp-content/uploads/2023/01/Prok-2-e1673034929164.png?fit=1100%2C575&ssl=1\" width=700 height=700 />\n",
    "\n",
    "\n",
    "https://www.ncbi.nlm.nih.gov/datasets/genome/?taxon=2&reference_only=true"
   ]
  },
  {
   "cell_type": "code",
   "execution_count": null,
   "id": "89b3ed94",
   "metadata": {},
   "outputs": [],
   "source": []
  },
  {
   "cell_type": "code",
   "execution_count": null,
   "id": "71eab6d1",
   "metadata": {},
   "outputs": [],
   "source": [
    "import re, os\n",
    "from pandas import DataFrame\n",
    "import matplotlib.pyplot as plt\n",
    "import matplotlib as mpl\n",
    "import matplotlib.patches as mpatches\n",
    "from matplotlib.path import Path\n",
    "import matplotlib.path as mpath\n",
    "import matplotlib.patches as patches"
   ]
  },
  {
   "cell_type": "code",
   "execution_count": null,
   "id": "4d1f7ad5",
   "metadata": {},
   "outputs": [],
   "source": []
  },
  {
   "cell_type": "code",
   "execution_count": null,
   "id": "adbb6a92",
   "metadata": {},
   "outputs": [],
   "source": [
    "def inner_plots(lista = []):\n",
    "    tipo = {1: Path.MOVETO, 2: Path.LINETO, 3: Path.CLOSEPOLY}\n",
    "    x1, y1, x2, y2 = [], [], [], []\n",
    "    for u in lista:\n",
    "        A = u.get_path()\n",
    "        mitad = int(len(A.vertices[:-2])/2)\n",
    "        mitad1 = A.vertices[:-2][:mitad,:]\n",
    "        mitad2 = A.vertices[:-2][mitad:,:]\n",
    "        x1.append(mitad2[3][0])\n",
    "        y1.append(mitad2[3][1])\n",
    "        x2.append(mitad1[3][0])\n",
    "        y2.append(mitad1[3][1])\n",
    "    x1.append(x1[0])\n",
    "    y1.append(y1[0])\n",
    "    x2.append(x2[0])\n",
    "    y2.append(y2[0])    \n",
    "\n",
    "    verts = []\n",
    "    codes = []\n",
    "    n = 0\n",
    "    for a, b in zip(x1 + list(reversed(x2)), y1 + list(reversed(y2))):\n",
    "        if n == 0:\n",
    "            verts.append([a, b])\n",
    "            codes.append(tipo[1])\n",
    "        if n == len(x1)-1:\n",
    "            verts.append([a, b])\n",
    "            codes.append(tipo[3])\n",
    "        else:\n",
    "            verts.append([a, b])\n",
    "            codes.append(tipo[2])\n",
    "        n += 1\n",
    "    return verts, codes"
   ]
  },
  {
   "cell_type": "code",
   "execution_count": null,
   "id": "ba219863",
   "metadata": {},
   "outputs": [],
   "source": []
  },
  {
   "cell_type": "code",
   "execution_count": null,
   "id": "d8b163bb",
   "metadata": {},
   "outputs": [],
   "source": []
  },
  {
   "cell_type": "markdown",
   "id": "659c5905",
   "metadata": {},
   "source": [
    "### Descargar y descomprimir el archivo `genomas.zip`\n",
    "\n",
    "https://github.com/eduardo1011/nov2024py/tree/main/data"
   ]
  },
  {
   "cell_type": "code",
   "execution_count": null,
   "id": "76260b2c",
   "metadata": {},
   "outputs": [],
   "source": []
  },
  {
   "cell_type": "code",
   "execution_count": null,
   "id": "e9a2b882",
   "metadata": {},
   "outputs": [],
   "source": [
    "[i for i in os.listdir() if '.fna' in i]"
   ]
  },
  {
   "cell_type": "code",
   "execution_count": null,
   "id": "177cae2c",
   "metadata": {},
   "outputs": [],
   "source": [
    "[i for i in os.listdir() if '.gff' in i]"
   ]
  },
  {
   "cell_type": "code",
   "execution_count": null,
   "id": "251032cb",
   "metadata": {},
   "outputs": [],
   "source": []
  },
  {
   "cell_type": "code",
   "execution_count": null,
   "id": "8a6d66a8",
   "metadata": {},
   "outputs": [],
   "source": [
    "GENOME_FNA = 'GCF_000022965.1_ASM2296v1_genomic.fna'\n",
    "GENOME_GFF = 'GCF_000022965.1_ASM2296v1_genomic.gff'"
   ]
  },
  {
   "cell_type": "code",
   "execution_count": null,
   "id": "b3ae8c81",
   "metadata": {},
   "outputs": [],
   "source": [
    "GENOME_FNA = 'GCF_000006945.2_ASM694v2_genomic.fna'\n",
    "GENOME_GFF = 'GCF_000006945.2_ASM694v2_genomic.gff'"
   ]
  },
  {
   "cell_type": "code",
   "execution_count": null,
   "id": "fb2db4cc",
   "metadata": {},
   "outputs": [],
   "source": [
    "GENOME_FNA = 'GCF_000006945.2_ASM694v2_genomic.fna'\n",
    "GENOME_GFF = 'GCF_000006945.2_ASM694v2_genomic.gff'"
   ]
  },
  {
   "cell_type": "code",
   "execution_count": null,
   "id": "39d82a21",
   "metadata": {},
   "outputs": [],
   "source": [
    "GENOME_FNA = 'GCF_001888925.1_ASM188892v1_genomic.fna'\n",
    "GENOME_GFF = 'GCF_001888925.1_ASM188892v1_genomic.gff'"
   ]
  },
  {
   "cell_type": "code",
   "execution_count": null,
   "id": "1be9ea2a",
   "metadata": {},
   "outputs": [],
   "source": []
  },
  {
   "cell_type": "code",
   "execution_count": null,
   "id": "7da0ec62",
   "metadata": {},
   "outputs": [],
   "source": []
  },
  {
   "cell_type": "code",
   "execution_count": null,
   "id": "75fbbbc1",
   "metadata": {},
   "outputs": [],
   "source": [
    "A, C, G, T = 0, 0, 0, 0\n",
    "with open(GENOME_FNA, 'r') as fq:\n",
    "    for line in fq:\n",
    "        line = line.rstrip()\n",
    "        line = line.upper()\n",
    "        if '>' in line:\n",
    "            pass\n",
    "        else:\n",
    "            A += line.count('A')\n",
    "            C += line.count('C')\n",
    "            G += line.count('G')\n",
    "            T += line.count('T')"
   ]
  },
  {
   "cell_type": "code",
   "execution_count": null,
   "id": "91bfab96",
   "metadata": {},
   "outputs": [],
   "source": []
  },
  {
   "cell_type": "code",
   "execution_count": null,
   "id": "3fee04a9",
   "metadata": {},
   "outputs": [],
   "source": [
    "bp = A + C + G + T\n",
    "print('Contig Length:', bp, 'bp')\n",
    "\n",
    "average = (float(G + C) / bp) * 100\n",
    "average"
   ]
  },
  {
   "cell_type": "code",
   "execution_count": null,
   "id": "ac091214",
   "metadata": {},
   "outputs": [],
   "source": []
  },
  {
   "cell_type": "code",
   "execution_count": null,
   "id": "9116cc0b",
   "metadata": {},
   "outputs": [],
   "source": [
    "base = 360 / bp\n",
    "base"
   ]
  },
  {
   "cell_type": "code",
   "execution_count": null,
   "id": "01d7a71c",
   "metadata": {},
   "outputs": [],
   "source": []
  },
  {
   "cell_type": "code",
   "execution_count": null,
   "id": "df94d968",
   "metadata": {},
   "outputs": [],
   "source": [
    "# sentido de las manecillas del reloj, asigna una posición \n",
    "pos_dict = {}\n",
    "ini = 90\n",
    "n = ini # punto de partida, 90 grados\n",
    "o = ini - base\n",
    "fin = ini - base\n",
    "for i in range(1, bp + 1):\n",
    "    pos_dict[i] = [o, n]\n",
    "    n -= base\n",
    "    o -= base"
   ]
  },
  {
   "cell_type": "code",
   "execution_count": null,
   "id": "0155784f",
   "metadata": {},
   "outputs": [],
   "source": [
    "data = []\n",
    "with open(GENOME_GFF, 'r') as fq:\n",
    "    for line in fq:\n",
    "        line = line.rstrip()\n",
    "        if re.search('^#', line):\n",
    "            pass\n",
    "        else:\n",
    "            L = line.split('\\t')\n",
    "            ID = L[8].split(';')[0]\n",
    "            if L[2] == 'CDS':\n",
    "                ID = re.sub('ID=', '', ID)\n",
    "                data.append([ID, L[2], L[3], L[4], L[6]])\n",
    "tabla = DataFrame(data)"
   ]
  },
  {
   "cell_type": "code",
   "execution_count": null,
   "id": "ec2a45fa",
   "metadata": {},
   "outputs": [],
   "source": [
    "tabla.columns = ['id', 'tipo', 'ini', 'fin', 'sens']\n",
    "tabla['ini'] = tabla.ini.astype(int)\n",
    "tabla['fin'] = tabla.fin.astype(int)\n",
    "tabla = tabla.sort_values(by =['ini'],ascending=True).reset_index(drop=True)\n",
    "tabla = tabla[tabla['fin'] <= bp]"
   ]
  },
  {
   "cell_type": "code",
   "execution_count": null,
   "id": "478832c8",
   "metadata": {},
   "outputs": [],
   "source": [
    "tipo_color = dict(zip(tabla.tipo.unique().tolist(), ['darkblue', 'limegreen', 'blueviolet', 'orange', 'red']))\n",
    "tipo_color"
   ]
  },
  {
   "cell_type": "code",
   "execution_count": null,
   "id": "bef04f3e",
   "metadata": {},
   "outputs": [],
   "source": [
    "tabla.tipo.unique().tolist()"
   ]
  },
  {
   "cell_type": "code",
   "execution_count": null,
   "id": "6e75a6cd",
   "metadata": {},
   "outputs": [],
   "source": [
    "#O = tabla.groupby(['tipo'])['id'].count().reset_index().sort_values(by ='id',ascending=False).reset_index(drop=True)\n",
    "#O"
   ]
  },
  {
   "cell_type": "code",
   "execution_count": null,
   "id": "adbba592",
   "metadata": {},
   "outputs": [],
   "source": [
    "tabla"
   ]
  },
  {
   "cell_type": "code",
   "execution_count": null,
   "id": "91159001",
   "metadata": {},
   "outputs": [],
   "source": [
    "tabla['pos1'] = [pos_dict[a][1] for a in tabla.fin]\n",
    "tabla['pos2'] = [pos_dict[a][0] for a in tabla.ini]"
   ]
  },
  {
   "cell_type": "code",
   "execution_count": null,
   "id": "398459a1",
   "metadata": {},
   "outputs": [],
   "source": [
    "plus = tabla[tabla.sens == '+']\n",
    "plus"
   ]
  },
  {
   "cell_type": "code",
   "execution_count": null,
   "id": "82cf39a9",
   "metadata": {},
   "outputs": [],
   "source": [
    "minus = tabla[tabla.sens == '-']\n",
    "minus"
   ]
  },
  {
   "cell_type": "code",
   "execution_count": null,
   "id": "fad0bc5a",
   "metadata": {},
   "outputs": [],
   "source": []
  },
  {
   "cell_type": "code",
   "execution_count": null,
   "id": "02fa074c",
   "metadata": {},
   "outputs": [],
   "source": []
  },
  {
   "cell_type": "code",
   "execution_count": null,
   "id": "f2ca72bf",
   "metadata": {},
   "outputs": [],
   "source": [
    "window_size = int(bp * 0.0015)\n",
    "#window_size = 7500\n",
    "window_size"
   ]
  },
  {
   "cell_type": "code",
   "execution_count": null,
   "id": "176f9c38",
   "metadata": {},
   "outputs": [],
   "source": [
    "import numpy as np"
   ]
  },
  {
   "cell_type": "code",
   "execution_count": null,
   "id": "10124290",
   "metadata": {},
   "outputs": [],
   "source": []
  },
  {
   "cell_type": "code",
   "execution_count": null,
   "id": "980157c6",
   "metadata": {},
   "outputs": [],
   "source": [
    "seq = ''\n",
    "with open(GENOME_FNA, 'r') as fq:\n",
    "    for line in fq:\n",
    "        line = line.rstrip()\n",
    "        line = line.upper()\n",
    "        if '>' in line:\n",
    "            pass\n",
    "        else:\n",
    "            seq += line"
   ]
  },
  {
   "cell_type": "code",
   "execution_count": null,
   "id": "46593364",
   "metadata": {},
   "outputs": [],
   "source": [
    "bp, len(seq)"
   ]
  },
  {
   "cell_type": "code",
   "execution_count": null,
   "id": "f38afcc5",
   "metadata": {},
   "outputs": [],
   "source": []
  },
  {
   "cell_type": "code",
   "execution_count": null,
   "id": "d8d581c2",
   "metadata": {},
   "outputs": [],
   "source": [
    "gc_skews = []\n",
    "for i in range(0, bp, window_size):\n",
    "    gc_skew = (seq[i:i+window_size].upper().count(\"G\") - seq[i:i+window_size].upper().count(\"C\")) / (seq[i:i+window_size].upper().count(\"G\") + seq[i:i+window_size].upper().count(\"C\"))\n",
    "    gc_skews.append(gc_skew)\n",
    "gc_skews.append((seq[i:].upper().count(\"G\") - seq[i:].upper().count(\"C\")) / (seq[i:].upper().count(\"G\") + seq[i:].upper().count(\"C\")))\n"
   ]
  },
  {
   "cell_type": "code",
   "execution_count": null,
   "id": "8f04b780",
   "metadata": {},
   "outputs": [],
   "source": [
    "gc_skew_positive = np.array(gc_skews)\n",
    "gc_skew_negative = np.array(gc_skews)\n",
    "gc_skew_positive[gc_skew_positive<0] = 0 # los negativos se vuelven 0, y se mantienen los positivos\n",
    "gc_skew_negative[gc_skew_positive>0] = 0 # los positivos se vuelven 0, y se mantienen los negativos"
   ]
  },
  {
   "cell_type": "code",
   "execution_count": null,
   "id": "31fd9883",
   "metadata": {},
   "outputs": [],
   "source": [
    "gc_count = []\n",
    "for i in range(0, bp, window_size):\n",
    "    gc_amount = (seq[i:i+window_size].upper().count(\"G\") + seq[i:i+window_size].upper().count(\"C\")) / window_size\n",
    "    gc_count.append(gc_amount)\n",
    "gc_count.append((seq[i:].upper().count(\"G\") + seq[i:i+window_size].upper().count(\"C\")) / (bp-i))\n",
    "\n",
    "x = np.array(gc_count)\n",
    "\n",
    "gc_amounts = []\n",
    "for i in x:\n",
    "    cal = np.log10(i / np.mean(x))\n",
    "    if cal < 0:\n",
    "        gc_amounts.append(cal)\n",
    "    if cal > 0:\n",
    "        gc_amounts.append(cal)\n",
    "gc_amounts = np.array(gc_amounts)\n",
    "\n",
    "gc_amounts_positive = np.array(gc_amounts)\n",
    "gc_amounts_negative = np.array(gc_amounts)\n",
    "gc_amounts_positive[gc_amounts_positive<0] = 0 # los negativos se vuelven 0, y se mantienen los positivos\n",
    "gc_amounts_negative[gc_amounts_positive>0] = 0 # los positivos se vuelven 0, y se mantienen los negativos"
   ]
  },
  {
   "cell_type": "code",
   "execution_count": null,
   "id": "f10ae3ec",
   "metadata": {},
   "outputs": [],
   "source": []
  },
  {
   "cell_type": "code",
   "execution_count": null,
   "id": "0c75fb29",
   "metadata": {},
   "outputs": [],
   "source": [
    "r1 = 0.3\n",
    "w1 = 0.1\n",
    "(r1, w1)"
   ]
  },
  {
   "cell_type": "code",
   "execution_count": null,
   "id": "347afce8",
   "metadata": {},
   "outputs": [],
   "source": [
    "minimo, maximo = abs(gc_skew_positive).min(), abs(gc_skew_positive).max()\n",
    "\n",
    "gc_skew_POS = []\n",
    "for i in abs(gc_skew_positive):\n",
    "    if i == 0:\n",
    "        gc_skew_POS.append(i)\n",
    "    else:\n",
    "        per = (i - minimo) / (maximo - minimo)\n",
    "        gc_skew_POS.append(per * (w1/2))"
   ]
  },
  {
   "cell_type": "code",
   "execution_count": null,
   "id": "bafd55bf",
   "metadata": {},
   "outputs": [],
   "source": [
    "minimo, maximo = abs(gc_skew_negative).min(), abs(gc_skew_negative).max()\n",
    "\n",
    "gc_skew_NE = []\n",
    "for i in abs(gc_skew_negative):\n",
    "    if i == 0:\n",
    "        gc_skew_NE.append(i)\n",
    "    else:\n",
    "        per = (i - minimo) / (maximo - minimo)\n",
    "        gc_skew_NE.append(per * (w1/2))"
   ]
  },
  {
   "cell_type": "code",
   "execution_count": null,
   "id": "89ae7373",
   "metadata": {},
   "outputs": [],
   "source": [
    "barra = 360 / len(gc_skew_NE)\n",
    "barra"
   ]
  },
  {
   "cell_type": "code",
   "execution_count": null,
   "id": "46941fe7",
   "metadata": {},
   "outputs": [],
   "source": [
    "r2 = 0.39\n",
    "w2 = 0.1\n",
    "(r2, w2)"
   ]
  },
  {
   "cell_type": "code",
   "execution_count": null,
   "id": "e63a1526",
   "metadata": {},
   "outputs": [],
   "source": [
    "minimo, maximo = abs(gc_amounts_positive).min(), abs(gc_amounts_positive).max()\n",
    "\n",
    "gc_amounts_POS = []\n",
    "for i in abs(gc_amounts_positive):\n",
    "    if i == 0:\n",
    "        gc_amounts_POS.append(i)\n",
    "    else:\n",
    "        per = (i - minimo) / (maximo - minimo)\n",
    "        gc_amounts_POS.append(per * (w2/2))"
   ]
  },
  {
   "cell_type": "code",
   "execution_count": null,
   "id": "4bf17755",
   "metadata": {},
   "outputs": [],
   "source": [
    "minimo, maximo = abs(gc_amounts_negative).min(), abs(gc_amounts_negative).max()\n",
    "\n",
    "gc_amounts_NE = []\n",
    "for i in abs(gc_amounts_negative):\n",
    "    if i == 0:\n",
    "        gc_amounts_NE.append(i)\n",
    "    else:\n",
    "        per = (i - minimo) / (maximo - minimo)\n",
    "        gc_amounts_NE.append(per * (w2/2))"
   ]
  },
  {
   "cell_type": "code",
   "execution_count": null,
   "id": "741a5940",
   "metadata": {},
   "outputs": [],
   "source": []
  },
  {
   "cell_type": "code",
   "execution_count": null,
   "id": "ac35d731",
   "metadata": {},
   "outputs": [],
   "source": [
    "# sentido de las manecillas del reloj\n",
    "rec = []\n",
    "ini = 90\n",
    "n = ini\n",
    "o = ini - barra\n",
    "fin = ini - barra\n",
    "for i in gc_skew_positive:\n",
    "    rec.append([o, n])\n",
    "    n -= barra\n",
    "    o -= barra"
   ]
  },
  {
   "cell_type": "code",
   "execution_count": null,
   "id": "41906e63",
   "metadata": {},
   "outputs": [],
   "source": [
    "r3 = 0.48\n",
    "w3 = 0.1\n",
    "(r3, w3)"
   ]
  },
  {
   "cell_type": "code",
   "execution_count": null,
   "id": "90cd5fa4",
   "metadata": {},
   "outputs": [],
   "source": []
  },
  {
   "cell_type": "code",
   "execution_count": null,
   "id": "5155b433",
   "metadata": {},
   "outputs": [],
   "source": [
    "rango = int(bp / 11)\n",
    "es = 360/len(np.arange(0, bp, rango))\n",
    "# sentido de las manecillas del reloj\n",
    "scala_dict = {}\n",
    "angles = []\n",
    "val_scale = []\n",
    "ini = 90\n",
    "masmenos = 0.35\n",
    "n = ini # punto de partida, 90 grados\n",
    "fin = ini - es\n",
    "for i in np.arange(0, bp, rango):\n",
    "    scala_dict[i] = [n+masmenos, n-masmenos]\n",
    "    angles.append(int(abs(n)))\n",
    "    val_scale.append(i)\n",
    "    n -= es"
   ]
  },
  {
   "cell_type": "code",
   "execution_count": null,
   "id": "0dabafe9",
   "metadata": {},
   "outputs": [],
   "source": []
  },
  {
   "cell_type": "code",
   "execution_count": null,
   "id": "459485c1",
   "metadata": {},
   "outputs": [],
   "source": [
    "mpl.rcParams.update(mpl.rcParamsDefault)\n",
    "\n",
    "centro = (0.5, 0.5)\n",
    "\n",
    "fig = plt.figure(figsize=(8, 8))\n",
    "\n",
    "ax = fig.add_axes([0, 0, 1, 1])\n",
    "ax.set_aspect('equal', 'box')\n",
    "ax.set_xlim(-0.05, 1.05)\n",
    "ax.set_ylim(-0.05, 1.05)\n",
    "\n",
    "gg = []\n",
    "for j in scala_dict:\n",
    "    sour = mpatches.Wedge((0.5, 0.5), r1 - (w1 * 1.05), scala_dict[j][1], scala_dict[j][0], width=0.008, facecolor='black', zorder = 1)\n",
    "    ax.add_patch(sour)\n",
    "    gg.append(sour)\n",
    "\n",
    "for r, a, e in zip(range(len(gg)), angles, val_scale):\n",
    "    if e == 0:\n",
    "        texto = '1'\n",
    "    else:\n",
    "        texto = str(round(e/1e6, 1))+' Mbp'\n",
    "    A = gg[r].get_path()\n",
    "    mitad = int(len(A.vertices[:-2])/2)\n",
    "    mitad1 = A.vertices[:-2][:mitad,:]\n",
    "    mitad2 = A.vertices[:-2][mitad:,:]\n",
    "    px, py = mitad2[0][0], mitad2[-1][1]\n",
    "    px2, py2 = round(px, 2), round(py, 2)\n",
    "    tamtext = 6\n",
    "    textcolor = 'grey'\n",
    "    \n",
    "    if (px2 > 0.5) and (py2 > 0.5):\n",
    "        ax.text(px, py, texto+' ', ha = 'right', va = 'top', fontsize = tamtext, color = textcolor)\n",
    "    if (px2 > 0.5) and (py2 < 0.5):\n",
    "        ax.text(px, py, texto+' ', ha = 'right', va = 'bottom', fontsize = tamtext, color = textcolor)\n",
    "    if (px2 < 0.5) and (py2 > 0.5):\n",
    "        ax.text(px, py, ' '+texto, ha = 'left', va = 'top', fontsize = tamtext, color = textcolor)\n",
    "    if (px2 < 0.5) and (py2 < 0.5):\n",
    "        ax.text(px, py, ' '+texto, ha = 'left', va = 'bottom', fontsize = tamtext, color = textcolor)\n",
    "    elif (px2 == 0.5) or (py2 == 0.5):\n",
    "        if px2 < 0.5:\n",
    "            ax.text(px, py, ' '+texto, ha = 'left', va = 'center', fontsize = tamtext, color = textcolor)\n",
    "        if px2 > 0.5:\n",
    "            ax.text(px, py, texto+' ', ha = 'right', va = 'center', fontsize = tamtext, color = textcolor)\n",
    "        if py2 < 0.5:\n",
    "            ax.text(px, py + (py*0.007), texto, ha = 'center', va = 'bottom', fontsize = tamtext, color = textcolor)\n",
    "        if py2 > 0.5:\n",
    "            ax.text(px, py - (py*0.007), texto, ha = 'center', va = 'top', fontsize = tamtext, color = textcolor)\n",
    "        \n",
    "#-------------------------------------------\n",
    "\n",
    "gc_skew_POS_lines = []\n",
    "for d, z in zip(gc_skew_POS, rec):\n",
    "    sour = mpatches.Wedge(centro, r1 - (w1/2), z[0], z[1],  width=-d, facecolor='#1BA21B', zorder = 2)\n",
    "    #ax.add_patch(sour) # muestra barras\n",
    "    gc_skew_POS_lines.append(sour)\n",
    "#... \n",
    "verts, codes = inner_plots(lista = gc_skew_POS_lines)\n",
    "path = Path(verts, codes)\n",
    "patch = patches.PathPatch(path, facecolor='#1BA21B', lw=0)\n",
    "ax.add_patch(patch)    \n",
    "#--------------------------\n",
    "\n",
    "gc_skew_NE_lines = []\n",
    "for d, z in zip(gc_skew_NE, rec):\n",
    "    sour = mpatches.Wedge(centro, r1 - (w1/2), z[0], z[1], width=d, facecolor='#990099', zorder = 2)\n",
    "    #ax.add_patch(sour)\n",
    "    gc_skew_NE_lines.append(sour)\n",
    "#...    \n",
    "verts, codes = inner_plots(lista = gc_skew_NE_lines)\n",
    "path = Path(verts, codes)\n",
    "patch = patches.PathPatch(path, facecolor='#990099', lw=0)\n",
    "ax.add_patch(patch)\n",
    "#--------------------------\n",
    "\n",
    "sour = mpatches.Wedge(centro, r1, 0, 360, width=0.001, facecolor='red', zorder = 2, alpha = 1)\n",
    "#ax.add_patch(sour)\n",
    "\n",
    "sour = mpatches.Wedge(centro, r1 - w1, 0, 360, width=0.001, facecolor='gainsboro', zorder = 1)\n",
    "#ax.add_patch(sour)\n",
    "\n",
    "gc_amounts_POS_lines = []\n",
    "for d, z in zip(gc_amounts_POS, rec):\n",
    "    sour = mpatches.Wedge(centro, r2 - (w2/2), z[0], z[1],  width=-d, facecolor='black', zorder = 2)\n",
    "    #ax.add_patch(sour)\n",
    "    gc_amounts_POS_lines.append(sour)\n",
    "    \n",
    "#...    \n",
    "verts, codes = inner_plots(lista = gc_amounts_POS_lines)\n",
    "path = Path(verts, codes)\n",
    "patch = patches.PathPatch(path, facecolor='black', lw=0)\n",
    "ax.add_patch(patch)\n",
    "#--------------------------\n",
    "\n",
    "gc_amounts_NE_lines = []\n",
    "for d, z in zip(gc_amounts_NE, rec):\n",
    "    sour = mpatches.Wedge(centro, r2 - (w2/2), z[0], z[1], width=d, facecolor='black', zorder = 2)\n",
    "    #ax.add_patch(sour) \n",
    "    gc_amounts_NE_lines.append(sour)\n",
    "    \n",
    "#...    \n",
    "verts, codes = inner_plots(lista = gc_amounts_NE_lines)\n",
    "path = Path(verts, codes)\n",
    "patch = patches.PathPatch(path, facecolor='black', lw=0)\n",
    "ax.add_patch(patch)\n",
    "#--------------------------\n",
    "\n",
    "sour = mpatches.Wedge(centro, r2, 0, 360, width=0.001, facecolor='gainsboro', zorder = 1)\n",
    "#ax.add_patch(sour)\n",
    "\n",
    "discos = 2.7\n",
    "for a, b, c in zip(plus.pos1.tolist(), plus.pos2.tolist(), plus.tipo.tolist()):\n",
    "    sour = mpatches.Wedge(centro, r3, a, b, width = w3/discos, facecolor='red', zorder = 2, alpha = 1, lw = 0)\n",
    "    ax.add_patch(sour)\n",
    "\n",
    "constante = (r3 - (w3/discos)) - (r3 - (w3/(discos / 1.2)))\n",
    "sour = mpatches.Wedge(centro, r3 - (w3/discos), 0, 360, width=constante, facecolor='red', zorder = 1)\n",
    "\n",
    "#ax.add_patch(sour)\n",
    "\n",
    "for a, b, c in zip(minus.pos1.tolist(), minus.pos2.tolist(), minus.tipo.tolist()):\n",
    "    sour = mpatches.Wedge(centro, r3 - (w3/(discos / 1.2)), a, b, width = w3/discos, facecolor='darkblue', zorder = 1, alpha = 1)\n",
    "    ax.add_patch(sour)\n",
    "\n",
    "#########   DATOS #################\n",
    "\n",
    "ty = 0.54\n",
    "\n",
    "ax.text(0.5, ty, \"bacteria\", ha = 'center', va = 'center', fontsize = 10, fontweight = 'bold', style = 'italic')\n",
    "\n",
    "ax.text(0.5, ty-0.03, \"{:,}\".format(bp)+' bp', ha = 'center', va = 'center', fontsize = 9)\n",
    "ax.text(0.5, ty-0.055, str(round(average, 1))+\" % GC\", ha = 'center', va = 'center', fontsize = 9)\n",
    "  \n",
    "ax.axis('off')\n",
    "\n",
    "plt.close()\n",
    "\n"
   ]
  },
  {
   "cell_type": "code",
   "execution_count": null,
   "id": "5fec3bd6",
   "metadata": {},
   "outputs": [],
   "source": []
  },
  {
   "cell_type": "code",
   "execution_count": null,
   "id": "99447dab",
   "metadata": {},
   "outputs": [],
   "source": []
  },
  {
   "cell_type": "code",
   "execution_count": null,
   "id": "cfcc06f0",
   "metadata": {},
   "outputs": [],
   "source": []
  },
  {
   "cell_type": "markdown",
   "id": "275f4cf3",
   "metadata": {},
   "source": [
    "### <font color = blue> Line plot\n",
    "    \n",
    "https://matplotlib.org/stable/api/_as_gen/matplotlib.lines.Line2D.html#matplotlib.lines.Line2D\n",
    "    \n",
    "https://matplotlib.org/stable/api/_as_gen/matplotlib.axes.Axes.plot.html"
   ]
  },
  {
   "cell_type": "markdown",
   "id": "b8e742e4",
   "metadata": {},
   "source": [
    "##### input"
   ]
  },
  {
   "cell_type": "code",
   "execution_count": null,
   "id": "6a56c286",
   "metadata": {},
   "outputs": [],
   "source": [
    "x = [0.5, 2.5]\n",
    "y = [0.5, 2.5]"
   ]
  },
  {
   "cell_type": "code",
   "execution_count": null,
   "id": "7d79a3f8",
   "metadata": {},
   "outputs": [],
   "source": [
    "fig = plt.figure(figsize=(3, 3))\n",
    "ax = fig.add_axes([0, 0, 1, 1])\n",
    "\n",
    "ax.set_xlim(0, 3)\n",
    "ax.set_ylim(0, 3)\n",
    "ax.set_facecolor('none')\n",
    "\n",
    "ax.set_xlabel('Eje X', fontsize = 15)\n",
    "ax.set_ylabel('Eje Y', fontsize = 15)\n",
    "\n",
    "ax.plot(x, y, lw = 3, solid_capstyle = 'butt', color = 'black')\n",
    "ax.scatter(x, y, s = 300, c = 'gold')\n",
    "\n",
    "plt.show()"
   ]
  },
  {
   "cell_type": "code",
   "execution_count": null,
   "id": "32399708",
   "metadata": {},
   "outputs": [],
   "source": []
  },
  {
   "cell_type": "markdown",
   "id": "d72e34cc",
   "metadata": {},
   "source": [
    "### <font color = blue> Bar plot"
   ]
  },
  {
   "cell_type": "markdown",
   "id": "679fd4c4",
   "metadata": {},
   "source": [
    "#####  input"
   ]
  },
  {
   "cell_type": "code",
   "execution_count": null,
   "id": "b3e0d021",
   "metadata": {},
   "outputs": [],
   "source": [
    "data = {'C':20, 'C++':15, 'Java':30, 'Python':35}\n",
    "\n",
    "courses = list(data.keys())\n",
    "values = list(data.values())"
   ]
  },
  {
   "cell_type": "code",
   "execution_count": null,
   "id": "032e2742",
   "metadata": {},
   "outputs": [],
   "source": [
    "fig = plt.figure(figsize=(4, 2))\n",
    "ax = fig.add_axes([0, 0, 1, 1])\n",
    "\n",
    "# creating the bar plot\n",
    "ax.bar(courses, values, color = 'red', width = 0.4)\n",
    "\n",
    "ax.set_xlabel('Courses offered', fontsize = 10)\n",
    "ax.set_ylabel('No. of students enrolled', fontsize = 10)\n",
    "ax.set_title(\"Students enrolled in different courses\", fontsize = 10)\n",
    "\n",
    "ax.set_xticklabels(courses, rotation = 0, fontsize = 10)\n",
    "\n",
    "plt.close()\n",
    "fig"
   ]
  },
  {
   "cell_type": "code",
   "execution_count": null,
   "id": "a8caa43d",
   "metadata": {},
   "outputs": [],
   "source": []
  },
  {
   "cell_type": "markdown",
   "id": "1ea5097b",
   "metadata": {},
   "source": [
    "### <font color = blue> Pie chart\n",
    "    \n",
    "https://matplotlib.org/stable/api/_as_gen/matplotlib.pyplot.pie.html"
   ]
  },
  {
   "cell_type": "markdown",
   "id": "3327fe03",
   "metadata": {},
   "source": [
    "##### input"
   ]
  },
  {
   "cell_type": "code",
   "execution_count": null,
   "id": "1fb228ac",
   "metadata": {},
   "outputs": [],
   "source": [
    "size_of_groups=[12,11,3,30]\n",
    "names = ['groupA', 'groupB', 'groupC', 'groupD']"
   ]
  },
  {
   "cell_type": "code",
   "execution_count": null,
   "id": "055f4506",
   "metadata": {},
   "outputs": [],
   "source": [
    "fig = plt.figure(figsize=(3, 3))\n",
    "\n",
    "ax = fig.add_axes([0, 0, 1, 1])\n",
    "\n",
    "ax.pie(size_of_groups, labels = names, rotatelabels=False ,startangle=0, labeldistance = 1.1, radius = 1)\n",
    "\n",
    "plt.close()\n",
    "\n",
    "fig"
   ]
  },
  {
   "cell_type": "code",
   "execution_count": null,
   "id": "9fa0ce58",
   "metadata": {},
   "outputs": [],
   "source": []
  },
  {
   "cell_type": "markdown",
   "id": "a41ba8e6",
   "metadata": {},
   "source": [
    "### <font color = blue> Donut chart"
   ]
  },
  {
   "cell_type": "markdown",
   "id": "4c36e61b",
   "metadata": {},
   "source": [
    "###### input"
   ]
  },
  {
   "cell_type": "code",
   "execution_count": null,
   "id": "19f72c29",
   "metadata": {},
   "outputs": [],
   "source": [
    "size_of_groups=[12,11,3,30]\n",
    "names = ['groupA', 'groupB', 'groupC', 'groupD']"
   ]
  },
  {
   "cell_type": "code",
   "execution_count": null,
   "id": "0c7bc925",
   "metadata": {},
   "outputs": [],
   "source": [
    "fig = plt.figure(figsize=(3, 3))\n",
    "\n",
    "ax = fig.add_axes([0, 0, 1, 1])\n",
    "\n",
    "ax.pie(size_of_groups, labels = names, labeldistance=1.1, textprops={'fontsize': 15})\n",
    "\n",
    "my_circle=plt.Circle( (0,0), 0.55, color='white')\n",
    "ax.add_artist(my_circle)\n",
    "\n",
    "plt.show()"
   ]
  },
  {
   "cell_type": "code",
   "execution_count": null,
   "id": "d3d5df49",
   "metadata": {},
   "outputs": [],
   "source": []
  },
  {
   "cell_type": "code",
   "execution_count": null,
   "id": "7be7bda7",
   "metadata": {},
   "outputs": [],
   "source": []
  },
  {
   "cell_type": "markdown",
   "id": "2ad02700",
   "metadata": {},
   "source": [
    "### <font color = blue> Stack plot"
   ]
  },
  {
   "cell_type": "markdown",
   "id": "01baf14d",
   "metadata": {},
   "source": [
    "##### Input"
   ]
  },
  {
   "cell_type": "code",
   "execution_count": null,
   "id": "90968e07",
   "metadata": {},
   "outputs": [],
   "source": [
    "# create data\n",
    "x = ['A', 'B', 'C', 'D']\n",
    "y1 = np.array([10, 20, 10, 30])\n",
    "y2 = np.array([20, 25, 15, 25])\n",
    "y3 = np.array([5, 5, 5, 5])"
   ]
  },
  {
   "cell_type": "code",
   "execution_count": null,
   "id": "3d53ef91",
   "metadata": {},
   "outputs": [],
   "source": [
    "\n",
    "fig = plt.figure(figsize=(3, 3))\n",
    "\n",
    "ax = fig.add_axes([0, 0, 1, 1])\n",
    "# plot bars in stack manner\n",
    "ax.bar(x, y1, color='r')\n",
    "ax.bar(x, y2, bottom=y1, color='b')\n",
    "ax.bar(x, y3, bottom=y2+y1, color='k')\n",
    "plt.show()"
   ]
  },
  {
   "cell_type": "code",
   "execution_count": null,
   "id": "0143922e",
   "metadata": {},
   "outputs": [],
   "source": []
  },
  {
   "cell_type": "markdown",
   "id": "0a8ff382",
   "metadata": {},
   "source": [
    "##### Input"
   ]
  },
  {
   "cell_type": "code",
   "execution_count": null,
   "id": "a225ba33",
   "metadata": {},
   "outputs": [],
   "source": [
    "# create data\n",
    "x = ['A', 'B', 'C', 'D']\n",
    "y1 = np.array([10, 20, 10, 30])\n",
    "y2 = np.array([20, 25, 15, 25])\n",
    "y3 = np.array([12, 15, 19, 6])\n",
    "y4 = np.array([10, 29, 13, 19])"
   ]
  },
  {
   "cell_type": "code",
   "execution_count": null,
   "id": "9c49ec54",
   "metadata": {},
   "outputs": [],
   "source": [
    "\n",
    "\n",
    "fig = plt.figure(figsize=(3, 3))\n",
    "\n",
    "ax = fig.add_axes([0, 0, 1, 1])\n",
    "# plot bars in stack manner\n",
    "ax.bar(x, y1, color='r')\n",
    "ax.bar(x, y2, bottom=y1, color='b')\n",
    "ax.bar(x, y3, bottom=y1+y2, color='y')\n",
    "ax.bar(x, y4, bottom=y1+y2+y3, color='g')\n",
    "\n",
    "plt.xlabel(\"Teams\")\n",
    "plt.ylabel(\"Score\")\n",
    "plt.legend([\"Round 1\", \"Round 2\", \"Round 3\", \"Round 4\"])\n",
    "plt.title(\"Scores by Teams in 4 Rounds\")\n",
    "plt.show()"
   ]
  },
  {
   "cell_type": "code",
   "execution_count": null,
   "id": "2107b19f",
   "metadata": {},
   "outputs": [],
   "source": []
  },
  {
   "cell_type": "markdown",
   "id": "34019439",
   "metadata": {},
   "source": [
    "### <font color = blue> Line plot & errorbar\n",
    "\n",
    "https://matplotlib.org/stable/api/_as_gen/matplotlib.axes.Axes.errorbar.html"
   ]
  },
  {
   "cell_type": "markdown",
   "id": "529e24a2",
   "metadata": {},
   "source": [
    "##### Input"
   ]
  },
  {
   "cell_type": "code",
   "execution_count": null,
   "id": "c3e57859",
   "metadata": {},
   "outputs": [],
   "source": [
    "x = [1, 5, 9, 13]\n",
    "y = [1, 25, 81, 169]\n",
    "yerr = [1.5, 7.5, 15, 19]"
   ]
  },
  {
   "cell_type": "code",
   "execution_count": null,
   "id": "d7f71ded",
   "metadata": {},
   "outputs": [],
   "source": [
    "fig = plt.figure(figsize=(3, 3))\n",
    "\n",
    "ax = fig.add_axes([0, 0, 1, 1])\n",
    "\n",
    "ax.plot(x, y, color = 'black', lw = 2)\n",
    "ax.errorbar(x, y, yerr=yerr, fmt='o', color='black', capsize=4)\n",
    "\n",
    "plt.show()"
   ]
  },
  {
   "cell_type": "code",
   "execution_count": null,
   "id": "9e0a1b02",
   "metadata": {},
   "outputs": [],
   "source": []
  },
  {
   "cell_type": "markdown",
   "id": "ec52a13c",
   "metadata": {},
   "source": [
    "##### Input"
   ]
  },
  {
   "cell_type": "code",
   "execution_count": null,
   "id": "cd7cb926",
   "metadata": {},
   "outputs": [],
   "source": [
    "week = [1, 2, 3, 4, 5, 6, 7, 8, 9, 10, 11, 12, 13, 14, 15, 16, 17, 18, 19, 20,\n",
    "    21, 22, 23, 24, 25, 26, 27, 28, 29, 30, 31, 32, 33, 34, 35, 36, 37, 38]\n",
    "log_points = [3, 6, 7, 10, 13, 16, 19, 20, 23, 26, 29, 32, 35, 38, 41, 41, 44, 44, 44,\n",
    "    47, 50, 53, 56, 56, 62, 65, 65, 68, 71, 74, 74, 80, 80, 83, 89, 92, 95, 98]"
   ]
  },
  {
   "cell_type": "code",
   "execution_count": null,
   "id": "dd0d7a52",
   "metadata": {},
   "outputs": [],
   "source": [
    "fig = plt.figure(figsize=(4, 4))\n",
    "\n",
    "ax = fig.add_axes([0, 0, 1, 1])\n",
    "\n",
    "ax.plot(week, log_points, c='#6caddf', lw=3, alpha=1)\n",
    "ax.set_title('Manchester City in the 2018-19 Premier League')\n",
    "ax.set_ylabel('Log Points')\n",
    "ax.set_ylim(0, 100)\n",
    "ax.set_xlim(1, 38)\n",
    "# Add text and annotations\n",
    "ax.text(33, 62, 'Final 14 matches', ha='center')\n",
    "ax.text(33, 58, 'were all victories', ha='center')\n",
    "\n",
    "ax.annotate('Moved clear at the top of the table', (11, 29), (30, -20), textcoords='offset points',\n",
    "    arrowprops=dict(facecolor='black', width=0.5, headwidth=5, headlength=7))\n",
    "\n",
    "ax.annotate('Week 11', (11, 29), (-6, 6), textcoords='offset points', ha='right')\n",
    "\n",
    "ax.annotate('', (16 / 38, -0.07), (28 / 38, -0.07), 'axes fraction', 'axes fraction',\n",
    "    arrowprops=dict(arrowstyle=\"<->\", color='k'))\n",
    "\n",
    "ax.annotate('Dropped from top spot', (22 / 38, -0.12), xycoords='axes fraction', ha='center')\n",
    "\n",
    "plt.show()"
   ]
  },
  {
   "cell_type": "code",
   "execution_count": null,
   "id": "cec29cb6",
   "metadata": {},
   "outputs": [],
   "source": []
  },
  {
   "cell_type": "code",
   "execution_count": null,
   "id": "a40b8c88",
   "metadata": {},
   "outputs": [],
   "source": []
  },
  {
   "cell_type": "code",
   "execution_count": null,
   "id": "345b7f32",
   "metadata": {},
   "outputs": [],
   "source": []
  },
  {
   "cell_type": "markdown",
   "id": "49a4ff4a",
   "metadata": {},
   "source": [
    "#### Plot con eje secundario"
   ]
  },
  {
   "cell_type": "markdown",
   "id": "9d00ea64",
   "metadata": {},
   "source": [
    "##### Input"
   ]
  },
  {
   "cell_type": "code",
   "execution_count": null,
   "id": "fe102f87",
   "metadata": {},
   "outputs": [],
   "source": [
    "x = np.arange(0, 10, 0.1) # serie\n",
    "y1 = x**2 # \n",
    "y2 = -1 *y1\n"
   ]
  },
  {
   "cell_type": "code",
   "execution_count": null,
   "id": "9cf24964",
   "metadata": {},
   "outputs": [],
   "source": [
    "fig = plt.figure(figsize=(3, 3))\n",
    "\n",
    "ax1 = fig.add_axes([0, 0, 1, 1])\n",
    "\n",
    "ax1.set_xlabel('X label')\n",
    "\n",
    "ax1.plot(x, y1, color = 'red')\n",
    "ax1.set_ylabel('Y1 data', color = 'red')\n",
    "\n",
    "ax2 = ax1.twinx()\n",
    "ax2.plot(x, y2, color = 'blue')\n",
    "ax2.set_ylabel('Y2 data', color='blue')\n",
    "\n",
    "plt.show()"
   ]
  },
  {
   "cell_type": "code",
   "execution_count": null,
   "id": "48fdc910",
   "metadata": {},
   "outputs": [],
   "source": []
  },
  {
   "cell_type": "code",
   "execution_count": null,
   "id": "cdd875c8",
   "metadata": {},
   "outputs": [],
   "source": []
  },
  {
   "cell_type": "markdown",
   "id": "1a92e135",
   "metadata": {},
   "source": [
    "### <font color = blue> Heatmap\n",
    "    \n",
    "https://matplotlib.org/stable/gallery/images_contours_and_fields/image_annotated_heatmap.html"
   ]
  },
  {
   "cell_type": "markdown",
   "id": "984825f9",
   "metadata": {},
   "source": [
    "##### Input"
   ]
  },
  {
   "cell_type": "code",
   "execution_count": null,
   "id": "877d244f",
   "metadata": {},
   "outputs": [],
   "source": [
    "vegetables = [\"cucumber\", \"tomato\", \"lettuce\", \"asparagus\",\n",
    "              \"potato\", \"wheat\", \"barley\"]\n",
    "farmers = [\"Farmer Joe\", \"Upland Bros.\", \"Smith Gardening\",\n",
    "           \"Agrifun\", \"Organiculture\", \"BioGoods Ltd.\", \"Cornylee Corp.\"]\n",
    "\n",
    "harvest = np.array([[0.8, 2.4, 2.5, 3.9, 0.0, 4.0, 0.0],\n",
    "                    [2.4, 0.0, 4.0, 1.0, 2.7, 0.0, 0.0],\n",
    "                    [1.1, 2.4, 0.8, 4.3, 1.9, 4.4, 0.0],\n",
    "                    [0.6, 0.0, 0.3, 0.0, 3.1, 0.0, 0.0],\n",
    "                    [0.7, 1.7, 0.6, 2.6, 2.2, 6.2, 0.0],\n",
    "                    [1.3, 1.2, 0.0, 0.0, 0.0, 3.2, 5.1],\n",
    "                    [0.1, 2.0, 0.0, 1.4, 0.0, 1.9, 6.3]])"
   ]
  },
  {
   "cell_type": "code",
   "execution_count": null,
   "id": "537d4250",
   "metadata": {},
   "outputs": [],
   "source": [
    "fig = plt.figure(figsize=(4, 4))\n",
    "\n",
    "ax = fig.add_axes([0, 0, 1, 1])\n",
    "\n",
    "im = ax.imshow(harvest, cmap=\"Spectral\")\n",
    "\n",
    "# Show all ticks and label them with the respective list entries\n",
    "ax.set_xticks(list(range(len(farmers))))\n",
    "ax.set_xticklabels(farmers, rotation = 90, fontsize = 12)\n",
    "\n",
    "ax.set_yticks(list(range(len(vegetables))))\n",
    "ax.set_yticklabels(vegetables, rotation = 0, fontsize = 12)\n",
    "\n",
    "# Loop over data dimensions and create text annotations.\n",
    "for i in range(len(vegetables)):\n",
    "    for j in range(len(farmers)):\n",
    "        text = ax.text(j, i, harvest[i, j], ha=\"center\", va=\"center\", color=\"w\", fontsize = 9)\n",
    "\n",
    "ax.set_title(\"Harvest of local farmers (in tons/year)\")\n",
    "\n",
    "cbar = ax.figure.colorbar(im, ax=ax, fraction=0.07, shrink = 0.7)\n",
    "cbar.ax.set_ylabel(\"harvest [t/year]\", rotation=-90, va=\"bottom\")\n",
    "\n",
    "plt.show()"
   ]
  },
  {
   "cell_type": "code",
   "execution_count": null,
   "id": "d7a05209",
   "metadata": {},
   "outputs": [],
   "source": []
  },
  {
   "cell_type": "code",
   "execution_count": null,
   "id": "af31f121",
   "metadata": {},
   "outputs": [],
   "source": []
  },
  {
   "cell_type": "code",
   "execution_count": null,
   "id": "a09d73f6",
   "metadata": {},
   "outputs": [],
   "source": []
  },
  {
   "cell_type": "code",
   "execution_count": null,
   "id": "58e47cff",
   "metadata": {},
   "outputs": [],
   "source": [
    "import pandas as pd\n",
    "import math\n",
    "import matplotlib as mpl\n",
    "import matplotlib.cm as cm\n",
    "import matplotlib.pyplot as plt\n",
    "import numpy as np"
   ]
  },
  {
   "cell_type": "code",
   "execution_count": null,
   "id": "a4011ba4",
   "metadata": {},
   "outputs": [],
   "source": [
    "def generate_logics(n_sets):\n",
    "    \"\"\"Generate intersection identifiers in binary (0010 etc)\"\"\"\n",
    "    for i in range(1, 2**n_sets):\n",
    "        yield bin(i)[2:].zfill(n_sets)\n",
    "def sets(data_sets, fmt=\"{size}\"):\n",
    "    \"\"\"Generate petal descriptions for venn diagram based on set sizes\"\"\"\n",
    "    datasets = list(data_sets.values())\n",
    "    n_sets = len(datasets)\n",
    "    dataset_union = set.union(*datasets)\n",
    "    universe_size = len(dataset_union)\n",
    "    \n",
    "    bin_term = {}\n",
    "    for j in [i for i in generate_logics(n_sets)]:\n",
    "        rr = []\n",
    "        for e, z in enumerate(j):\n",
    "            if z == '1':\n",
    "                rr.append(list(data_sets.keys())[e])\n",
    "        bin_term[j] = rr\n",
    "    \n",
    "    petal_labels = {}\n",
    "    for logic in bin_term:\n",
    "        included_sets = [datasets[i] for i in range(n_sets) if logic[i] == \"1\"]\n",
    "        excluded_sets = [datasets[i] for i in range(n_sets) if logic[i] == \"0\"]\n",
    "        petal_set = ((dataset_union & set.intersection(*included_sets)) - set.union(set(), *excluded_sets))\n",
    "        petal_labels[logic] = [int(fmt.format(logic=logic, size=len(petal_set), percentage=(100*len(petal_set)/universe_size))), petal_set, bin_term[logic]]\n",
    "    return petal_labels"
   ]
  },
  {
   "cell_type": "code",
   "execution_count": null,
   "id": "a9b454b7",
   "metadata": {},
   "outputs": [],
   "source": []
  },
  {
   "cell_type": "code",
   "execution_count": null,
   "id": "076c45ea",
   "metadata": {},
   "outputs": [],
   "source": [
    "inter = [('Set A', 1), ('Set A' ,3), ('Set A', 8), ('Set A' ,9), ('Set A' ,30),\n",
    "         ('Set B' ,33), ('Set B' ,1), ('Set B' ,5), ('Set B' ,4), ('Set B', 6),\n",
    "         ('Set C' ,4), ('Set C' ,3), ('Set C' ,7), ('Set C' ,68), ('Set C' ,11),\n",
    "         ('Set D' ,12), ('Set D' ,8), ('Set D' ,87), ('Set D' ,9)]"
   ]
  },
  {
   "cell_type": "markdown",
   "id": "e6368024",
   "metadata": {},
   "source": [
    "##### Input: convertir la lista de tuplas en un diccionario"
   ]
  },
  {
   "cell_type": "code",
   "execution_count": null,
   "id": "da024395",
   "metadata": {},
   "outputs": [],
   "source": [
    "dics = {}\n",
    "for x in set([i[0] for i in inter]):\n",
    "    t = []\n",
    "    for i, j in inter:\n",
    "        if x == i:\n",
    "            t.append(j)\n",
    "    dics[x] = set(t)"
   ]
  },
  {
   "cell_type": "code",
   "execution_count": null,
   "id": "4fbb61ed",
   "metadata": {},
   "outputs": [],
   "source": [
    "dics"
   ]
  },
  {
   "cell_type": "markdown",
   "id": "bab4766b",
   "metadata": {},
   "source": [
    "##### Par[ametros"
   ]
  },
  {
   "cell_type": "code",
   "execution_count": null,
   "id": "821d24e8",
   "metadata": {},
   "outputs": [],
   "source": [
    "PUNTO_MATRIX = 150\n",
    "LINE_UP = 3\n",
    "\n",
    "ANCHO_UP = 6\n",
    "ALTO_UP = 4\n",
    "\n",
    "HBAR_AREA = 0.4\n",
    "HVBARCOLORS_DOTS = True\n",
    "HBARSIZE = 0.5\n",
    "VBAR_AREA = 0.4\n",
    "VBARSIZE = 0.7"
   ]
  },
  {
   "cell_type": "code",
   "execution_count": null,
   "id": "611fa1ae",
   "metadata": {},
   "outputs": [],
   "source": [
    "data = {i: len(dics[i]) for i in dics}\n",
    "\n",
    "RES = sets({i: dics[i] for i in data})\n",
    "\n",
    "INTERS = []\n",
    "for u in list(data.keys()):\n",
    "    for x in [i for i in RES]:\n",
    "        if RES[x][2] == [u]:\n",
    "            INTERS.append([x, RES[x][2], RES[x][0]])\n",
    "for x in [i for i in RES]:\n",
    "    if RES[x][0] > 0:\n",
    "        if x.count('1') > 1:\n",
    "            INTERS.append([x, RES[x][2], RES[x][0]])\n",
    "VALINTERS = [i[2] for i in INTERS]\n",
    "\n",
    "conex = []\n",
    "dots = []\n",
    "for e, u in enumerate([i[0] for i in INTERS]):\n",
    "    if u.count('1') == 1:\n",
    "        dots.append([e, e])\n",
    "        #print([e, e], u)\n",
    "    if u.count('1') > 1:\n",
    "        ww = [x for x, y in enumerate(u) if y == '1']\n",
    "        #print([e, e], u, ww)\n",
    "        conex.append([[e, e], [ww[0], ww[-1]]])\n",
    "        for t in ww:\n",
    "            dots.append([e, t])\n",
    "NT = {e: i[1][0] for e, i in enumerate(INTERS) if len(i[1]) == 1}\n",
    "\n",
    "\n",
    "#oooooooooooooooooooooooooooooooooooooooooooooooooooooooooooooooooooooooooooooooooooooooooooooooooooooooooooooooooooooooooooooooooo \n",
    "punto = PUNTO_MATRIX\n",
    "\n",
    "LW = LINE_UP"
   ]
  },
  {
   "cell_type": "code",
   "execution_count": null,
   "id": "304ff918",
   "metadata": {},
   "outputs": [],
   "source": [
    "# comparable con https://www.chiplot.online/upset_plot.html\n",
    "fig = plt.figure(figsize=(ANCHO_UP, ALTO_UP))\n",
    "\n",
    "bar_color = 'black' # '#2b524c'\n",
    "I = 0\n",
    "II = 0.5\n",
    "AlMa = 0.4\n",
    "\n",
    "total = fig.add_axes([II + 0.005, 0, HBAR_AREA, AlMa])\n",
    "total.set_facecolor('none')\n",
    "total.set_ylim(-0.5, len(data) - 0.5)\n",
    "\n",
    "if HVBARCOLORS_DOTS == False:\n",
    "    BarColsV = [lst1_v[i] for i in dics] + ['black']*100\n",
    "    BarColsH = [lst1_v[i] for i in dics]\n",
    "if HVBARCOLORS_DOTS == True:\n",
    "    BarColsH = ['black']*100\n",
    "    BarColsV = ['black']*100\n",
    "\n",
    "##### Barras horizontales\n",
    "courses = list(data.keys())\n",
    "values = list(data.values())\n",
    "total.barh(courses, values, HBARSIZE, color = BarColsH, alpha = 1)\n",
    "#total.invert_xaxis()\n",
    "total.set_yticks([])\n",
    "\n",
    "for e, i in enumerate(values):\n",
    "    total.text(i, e, ' ' + str(i), zorder = 5, color = 'black', ha = 'left', va = 'center', fontsize = 12)\n",
    "\n",
    "total.spines['right'].set_visible(False)\n",
    "total.spines['left'].set_visible(False)\n",
    "total.spines['top'].set_visible(False)\n",
    "\n",
    "total.set_xticks(total.get_xticks()[:-1])\n",
    "total.set_xlabel('Set Size', size = 13)\n",
    "\n",
    "#----------------------------------------------------------------\n",
    "##### Barras verticales\n",
    "\n",
    "inter = fig.add_axes([I, AlMa + 0.02, II, VBAR_AREA])\n",
    "inter.set_facecolor('none')\n",
    "inter.set_xlim(-0.5, len(VALINTERS) - 0.5)\n",
    "\n",
    "inter.bar(range(len(VALINTERS)), VALINTERS,  VBARSIZE, color = BarColsV)\n",
    "\n",
    "for e, v in enumerate(VALINTERS):\n",
    "    inter.text(e, v + 0.1, str(v), ha = 'center', va = 'bottom', zorder = 6, fontsize = 12)  \n",
    "\n",
    "inter.set_xticks([])\n",
    "\n",
    "inter.spines['right'].set_visible(False)\n",
    "inter.spines['top'].set_visible(False)\n",
    "inter.spines['bottom'].set_visible(False)\n",
    "\n",
    "inter.set_ylabel('Intersection Size', size = 13)\n",
    "\n",
    "#----------------------------------------------------------------\n",
    "\n",
    "matrix = fig.add_axes([I, 0, II, AlMa])\n",
    "matrix.set_facecolor('none')\n",
    "matrix.set_ylim(-0.5, len(data) - 0.5)\n",
    "matrix.set_xlim(-0.5, len(VALINTERS) - 0.5)\n",
    "\n",
    "N = 0\n",
    "for y in range(len(data)):\n",
    "    for x in range(len(VALINTERS)):\n",
    "        matrix.scatter(x, y, c = 'gainsboro', s = punto, zorder = 5, alpha = 0.5,  lw = 0)\n",
    "        N += 1\n",
    "\n",
    "F = 0\n",
    "for d in dics:\n",
    "    if len(d) <= 45:\n",
    "        d = str(d)[0].upper()+d[1:]\n",
    "    else:\n",
    "        d = str(d)[0].upper()+d[1:][:46]+'...'\n",
    "    matrix.text(-0.6, F, d + ' ', ha = 'right', va = 'center', zorder = 7, fontsize = 13, color = 'black')\n",
    "    F += 1\n",
    "\n",
    "matrix.set_yticks([])\n",
    "matrix.set_xticks([])\n",
    "\n",
    "for cx, cy in conex:\n",
    "    matrix.plot(cx, cy, color = 'silver', linewidth = LW, zorder = 7)\n",
    "\n",
    "for i in dots:\n",
    "    x, y = i[0], i[1]\n",
    "    if HVBARCOLORS_DOTS == False:\n",
    "        matrix.scatter(x, y, c = lst1_v[NT[y]], s = punto*1.05, zorder = 8, alpha = 1)\n",
    "    if HVBARCOLORS_DOTS == True:\n",
    "        matrix.scatter(x, y, c = 'black', s = punto*1.05, zorder = 8, alpha = 1)\n",
    "\n",
    "matrix.spines['right'].set_visible(False)\n",
    "matrix.spines['left'].set_visible(False)\n",
    "matrix.spines['top'].set_visible(False)\n",
    "matrix.spines['bottom'].set_visible(False)\n",
    "\n",
    "for i in range(len(data)):\n",
    "    if i%2 == 1:\n",
    "        matrix.plot([-0.5, len(VALINTERS)-0.5], [i, i], color = 'gainsboro', linewidth = punto/10, zorder = 1, alpha = 0.3, solid_capstyle = 'butt')\n",
    "\n",
    "\n",
    "\n",
    "plt.close()\n",
    "display(fig)"
   ]
  },
  {
   "cell_type": "code",
   "execution_count": null,
   "id": "380e377e",
   "metadata": {},
   "outputs": [],
   "source": []
  },
  {
   "cell_type": "code",
   "execution_count": null,
   "id": "a34767d6",
   "metadata": {},
   "outputs": [],
   "source": []
  }
 ],
 "metadata": {
  "kernelspec": {
   "display_name": "Python 3",
   "language": "python",
   "name": "python3"
  },
  "language_info": {
   "codemirror_mode": {
    "name": "ipython",
    "version": 3
   },
   "file_extension": ".py",
   "mimetype": "text/x-python",
   "name": "python",
   "nbconvert_exporter": "python",
   "pygments_lexer": "ipython3",
   "version": "3.6.7"
  }
 },
 "nbformat": 4,
 "nbformat_minor": 5
}
