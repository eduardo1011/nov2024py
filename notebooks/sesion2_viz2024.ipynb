{
 "cells": [
  {
   "cell_type": "code",
   "execution_count": null,
   "id": "61c89014",
   "metadata": {},
   "outputs": [],
   "source": []
  },
  {
   "cell_type": "markdown",
   "id": "901baa78",
   "metadata": {},
   "source": [
    "#### Repaso de diccionarios"
   ]
  },
  {
   "cell_type": "code",
   "execution_count": null,
   "id": "e742aed1",
   "metadata": {},
   "outputs": [],
   "source": []
  },
  {
   "cell_type": "code",
   "execution_count": null,
   "id": "de68ed8c",
   "metadata": {},
   "outputs": [],
   "source": []
  },
  {
   "cell_type": "code",
   "execution_count": null,
   "id": "1d2af7d7",
   "metadata": {},
   "outputs": [],
   "source": []
  },
  {
   "cell_type": "code",
   "execution_count": null,
   "id": "b99dedac",
   "metadata": {},
   "outputs": [],
   "source": []
  },
  {
   "cell_type": "code",
   "execution_count": null,
   "id": "4f8cd0b5",
   "metadata": {},
   "outputs": [],
   "source": [
    "import warnings\n",
    "warnings.filterwarnings(\"ignore\")"
   ]
  },
  {
   "cell_type": "markdown",
   "id": "9d5bdf55",
   "metadata": {},
   "source": [
    "# <font color = royalblue>Sesión 2 (5 horas)</font>\n",
    "\n",
    "## TÉCNICAS DE VISUALIZACIÓN DE DATOS\n",
    "\n",
    "    DataFrame (pandas).\n",
    "    Integración de estructuras.\n",
    "    Visualizaciones básicas con Matplotlib.\n",
    "    Visualizaciones básicas con Seaborn.\n",
    "    Gráficos personalizados para publicaciones."
   ]
  },
  {
   "cell_type": "code",
   "execution_count": null,
   "id": "de4ccb06",
   "metadata": {},
   "outputs": [],
   "source": []
  },
  {
   "cell_type": "markdown",
   "id": "70cc66a8",
   "metadata": {},
   "source": [
    "#### instalaciones de:\n",
    "\n",
    "* pandas  \n",
    "* itables  \n",
    "* numpy  \n",
    "* matplotlib  \n",
    "\n",
    "Comando para instalar paquetes  \n",
    "`python -mpip install pandas`"
   ]
  },
  {
   "cell_type": "code",
   "execution_count": null,
   "id": "4b8508ab",
   "metadata": {},
   "outputs": [],
   "source": []
  },
  {
   "cell_type": "code",
   "execution_count": null,
   "id": "8b805895",
   "metadata": {},
   "outputs": [],
   "source": []
  },
  {
   "cell_type": "markdown",
   "id": "14e5537f",
   "metadata": {},
   "source": [
    "# <font color = royalblue>DataFrame (Pandas).</font>"
   ]
  },
  {
   "cell_type": "code",
   "execution_count": null,
   "id": "108fee34",
   "metadata": {},
   "outputs": [],
   "source": []
  },
  {
   "cell_type": "code",
   "execution_count": null,
   "id": "76e0f8cc",
   "metadata": {},
   "outputs": [],
   "source": [
    "import pandas as pd\n",
    "import numpy as np"
   ]
  },
  {
   "cell_type": "code",
   "execution_count": null,
   "id": "db61c688",
   "metadata": {},
   "outputs": [],
   "source": []
  },
  {
   "cell_type": "code",
   "execution_count": null,
   "id": "4c1ff695",
   "metadata": {},
   "outputs": [],
   "source": [
    "df = pd.read_csv('data_iris.txt', sep = '\\t')"
   ]
  },
  {
   "cell_type": "code",
   "execution_count": null,
   "id": "21a49ed7",
   "metadata": {},
   "outputs": [],
   "source": [
    "df"
   ]
  },
  {
   "cell_type": "code",
   "execution_count": null,
   "id": "e6bc5376",
   "metadata": {},
   "outputs": [],
   "source": []
  },
  {
   "cell_type": "code",
   "execution_count": null,
   "id": "124673d3",
   "metadata": {},
   "outputs": [],
   "source": []
  },
  {
   "cell_type": "code",
   "execution_count": null,
   "id": "d357d0c0",
   "metadata": {},
   "outputs": [],
   "source": []
  },
  {
   "cell_type": "markdown",
   "id": "09288d13",
   "metadata": {},
   "source": [
    "## <font color = red>Ejercicio</font>\n",
    "* #### Conocer el número de columnas\n",
    "* #### seleccionar columnas\n",
    "* #### seleccionar filas\n",
    "* #### rangos de numeros\n",
    "* #### alimiar columnas\n",
    "* #### agregar columnas\n",
    "* #### convertir una columna en lista\n",
    "* #### Remover duplicados"
   ]
  },
  {
   "cell_type": "code",
   "execution_count": null,
   "id": "401dcab0",
   "metadata": {},
   "outputs": [],
   "source": []
  },
  {
   "cell_type": "code",
   "execution_count": null,
   "id": "5495f768",
   "metadata": {},
   "outputs": [],
   "source": []
  },
  {
   "cell_type": "code",
   "execution_count": null,
   "id": "eb4ee564",
   "metadata": {},
   "outputs": [],
   "source": []
  },
  {
   "cell_type": "code",
   "execution_count": null,
   "id": "12faf879",
   "metadata": {},
   "outputs": [],
   "source": []
  },
  {
   "cell_type": "code",
   "execution_count": null,
   "id": "760c01a8",
   "metadata": {},
   "outputs": [],
   "source": []
  },
  {
   "cell_type": "code",
   "execution_count": null,
   "id": "57b19765",
   "metadata": {},
   "outputs": [],
   "source": []
  },
  {
   "cell_type": "code",
   "execution_count": null,
   "id": "2af9168c",
   "metadata": {},
   "outputs": [],
   "source": []
  },
  {
   "cell_type": "code",
   "execution_count": null,
   "id": "2735448d",
   "metadata": {},
   "outputs": [],
   "source": []
  },
  {
   "cell_type": "code",
   "execution_count": null,
   "id": "5dbdab31",
   "metadata": {},
   "outputs": [],
   "source": []
  },
  {
   "cell_type": "code",
   "execution_count": null,
   "id": "8649d861",
   "metadata": {},
   "outputs": [],
   "source": []
  },
  {
   "cell_type": "code",
   "execution_count": null,
   "id": "97ae3d7a",
   "metadata": {},
   "outputs": [],
   "source": []
  },
  {
   "cell_type": "code",
   "execution_count": null,
   "id": "3c88fbf9",
   "metadata": {},
   "outputs": [],
   "source": []
  },
  {
   "cell_type": "code",
   "execution_count": null,
   "id": "ea93657c",
   "metadata": {},
   "outputs": [],
   "source": []
  },
  {
   "cell_type": "code",
   "execution_count": null,
   "id": "f82137f6",
   "metadata": {},
   "outputs": [],
   "source": []
  },
  {
   "cell_type": "code",
   "execution_count": null,
   "id": "8bf4c1fa",
   "metadata": {},
   "outputs": [],
   "source": []
  },
  {
   "cell_type": "code",
   "execution_count": null,
   "id": "7bc6c635",
   "metadata": {},
   "outputs": [],
   "source": []
  },
  {
   "cell_type": "code",
   "execution_count": null,
   "id": "d6cc39d0",
   "metadata": {},
   "outputs": [],
   "source": []
  },
  {
   "cell_type": "code",
   "execution_count": null,
   "id": "a149fef1",
   "metadata": {},
   "outputs": [],
   "source": []
  },
  {
   "cell_type": "code",
   "execution_count": null,
   "id": "a33a9941",
   "metadata": {},
   "outputs": [],
   "source": []
  },
  {
   "cell_type": "code",
   "execution_count": null,
   "id": "e9869829",
   "metadata": {},
   "outputs": [],
   "source": []
  },
  {
   "cell_type": "code",
   "execution_count": null,
   "id": "45ae6036",
   "metadata": {},
   "outputs": [],
   "source": [
    "### Asignar colores a valores de la columna sepal_length"
   ]
  },
  {
   "cell_type": "code",
   "execution_count": null,
   "id": "9d7a20d1",
   "metadata": {},
   "outputs": [],
   "source": [
    "import matplotlib as mpl\n",
    "import matplotlib.cm as cm\n",
    "from matplotlib.colors import to_hex"
   ]
  },
  {
   "cell_type": "code",
   "execution_count": null,
   "id": "c6bc45f6",
   "metadata": {},
   "outputs": [],
   "source": []
  },
  {
   "cell_type": "markdown",
   "id": "5ca91e16",
   "metadata": {},
   "source": [
    "#### debemos obtener el mínimo y máximo de la columna"
   ]
  },
  {
   "cell_type": "code",
   "execution_count": null,
   "id": "041470bc",
   "metadata": {},
   "outputs": [],
   "source": []
  },
  {
   "cell_type": "code",
   "execution_count": null,
   "id": "0eda09fc",
   "metadata": {},
   "outputs": [],
   "source": []
  },
  {
   "cell_type": "code",
   "execution_count": null,
   "id": "ad8468a3",
   "metadata": {},
   "outputs": [],
   "source": []
  },
  {
   "cell_type": "code",
   "execution_count": null,
   "id": "846a5f90",
   "metadata": {},
   "outputs": [],
   "source": [
    "normlst = mpl.colors.Normalize(vmin=, vmax=, clip=True)\n",
    "mapperlst = cm.ScalarMappable(norm=normlst, cmap=cm.Spectral) # cm.Spectral"
   ]
  },
  {
   "cell_type": "code",
   "execution_count": null,
   "id": "d8649ebd",
   "metadata": {},
   "outputs": [],
   "source": []
  },
  {
   "cell_type": "code",
   "execution_count": null,
   "id": "cde574e5",
   "metadata": {},
   "outputs": [],
   "source": [
    "colors = {}\n",
    "for e, v in enumerate(df['sepal_length']):\n",
    "    colors[v] = to_hex(mapperlst.to_rgba(v))"
   ]
  },
  {
   "cell_type": "code",
   "execution_count": null,
   "id": "50c3f55a",
   "metadata": {},
   "outputs": [],
   "source": []
  },
  {
   "cell_type": "code",
   "execution_count": null,
   "id": "67740b9d",
   "metadata": {},
   "outputs": [],
   "source": []
  },
  {
   "cell_type": "code",
   "execution_count": null,
   "id": "be62a4cb",
   "metadata": {},
   "outputs": [],
   "source": []
  },
  {
   "cell_type": "markdown",
   "id": "28163282",
   "metadata": {},
   "source": [
    "#### Agregar una columna de colores al dataframe anterior"
   ]
  },
  {
   "cell_type": "code",
   "execution_count": null,
   "id": "4fbfd4d3",
   "metadata": {},
   "outputs": [],
   "source": [
    "df"
   ]
  },
  {
   "cell_type": "code",
   "execution_count": null,
   "id": "46de392b",
   "metadata": {},
   "outputs": [],
   "source": []
  },
  {
   "cell_type": "code",
   "execution_count": null,
   "id": "bda24468",
   "metadata": {},
   "outputs": [],
   "source": []
  },
  {
   "cell_type": "code",
   "execution_count": null,
   "id": "5e83fb17",
   "metadata": {},
   "outputs": [],
   "source": []
  },
  {
   "cell_type": "code",
   "execution_count": null,
   "id": "c2f4f20a",
   "metadata": {},
   "outputs": [],
   "source": []
  },
  {
   "cell_type": "markdown",
   "id": "664d69e5",
   "metadata": {},
   "source": [
    "#### Tablas dinámicas"
   ]
  },
  {
   "cell_type": "code",
   "execution_count": null,
   "id": "122cec3c",
   "metadata": {},
   "outputs": [],
   "source": []
  },
  {
   "cell_type": "code",
   "execution_count": null,
   "id": "c4806e8e",
   "metadata": {},
   "outputs": [],
   "source": [
    "pd.pivot_table(df, values = 'sepal_length', index = 'species', aggfunc = sum)"
   ]
  },
  {
   "cell_type": "code",
   "execution_count": null,
   "id": "ce6e4993",
   "metadata": {},
   "outputs": [],
   "source": [
    "pd.pivot_table(df, values = 'sepal_length', index = ['species'], aggfunc = len)"
   ]
  },
  {
   "cell_type": "code",
   "execution_count": null,
   "id": "e1fd085b",
   "metadata": {},
   "outputs": [],
   "source": [
    "pd.pivot_table(df, values = ['sepal_length', 'sepal_width'], index = ['species'], aggfunc = np.mean)"
   ]
  },
  {
   "cell_type": "code",
   "execution_count": null,
   "id": "23df2d4a",
   "metadata": {},
   "outputs": [],
   "source": [
    "pd.pivot_table(df, values = ['sepal_length', 'sepal_width'], index = ['species'], aggfunc = np.std)"
   ]
  },
  {
   "cell_type": "code",
   "execution_count": null,
   "id": "ebd2292d",
   "metadata": {},
   "outputs": [],
   "source": []
  },
  {
   "cell_type": "code",
   "execution_count": null,
   "id": "d278c461",
   "metadata": {},
   "outputs": [],
   "source": []
  },
  {
   "cell_type": "code",
   "execution_count": null,
   "id": "109eec1f",
   "metadata": {},
   "outputs": [],
   "source": []
  },
  {
   "cell_type": "code",
   "execution_count": null,
   "id": "e3223493",
   "metadata": {},
   "outputs": [],
   "source": []
  },
  {
   "cell_type": "markdown",
   "id": "dfde776d",
   "metadata": {},
   "source": [
    "## <font color = royalblue>DataFrame</font>\n",
    "\n",
    "https://matplotlib.org/stable/users/explain/colors/colormaps.html"
   ]
  },
  {
   "cell_type": "code",
   "execution_count": null,
   "id": "cc04394a",
   "metadata": {},
   "outputs": [],
   "source": []
  },
  {
   "cell_type": "code",
   "execution_count": null,
   "id": "65c22aa8",
   "metadata": {},
   "outputs": [],
   "source": [
    "df.style.bar(subset=['sepal_length', 'sepal_width', 'petal_length', 'petal_width'], color='royalblue')"
   ]
  },
  {
   "cell_type": "code",
   "execution_count": null,
   "id": "71bffa2a",
   "metadata": {},
   "outputs": [],
   "source": []
  },
  {
   "cell_type": "code",
   "execution_count": null,
   "id": "d0c00104",
   "metadata": {},
   "outputs": [],
   "source": [
    "from itables import show"
   ]
  },
  {
   "cell_type": "code",
   "execution_count": null,
   "id": "f31ac071",
   "metadata": {},
   "outputs": [],
   "source": [
    "show(df)"
   ]
  },
  {
   "cell_type": "code",
   "execution_count": null,
   "id": "907aa830",
   "metadata": {},
   "outputs": [],
   "source": []
  },
  {
   "cell_type": "code",
   "execution_count": null,
   "id": "b3d8ee76",
   "metadata": {},
   "outputs": [],
   "source": [
    "df2 = df.corr()"
   ]
  },
  {
   "cell_type": "code",
   "execution_count": null,
   "id": "a3a9abbf",
   "metadata": {},
   "outputs": [],
   "source": [
    "df2.style.background_gradient(cmap = 'Blues')"
   ]
  },
  {
   "cell_type": "code",
   "execution_count": null,
   "id": "c8c2e383",
   "metadata": {},
   "outputs": [],
   "source": []
  },
  {
   "cell_type": "code",
   "execution_count": null,
   "id": "f2f88fd5",
   "metadata": {},
   "outputs": [],
   "source": [
    "df2.style.background_gradient(cmap = 'Spectral')"
   ]
  },
  {
   "cell_type": "code",
   "execution_count": null,
   "id": "661d0a68",
   "metadata": {},
   "outputs": [],
   "source": []
  },
  {
   "cell_type": "code",
   "execution_count": null,
   "id": "5a1744c9",
   "metadata": {},
   "outputs": [],
   "source": []
  },
  {
   "cell_type": "code",
   "execution_count": null,
   "id": "0c2c6369",
   "metadata": {},
   "outputs": [],
   "source": []
  },
  {
   "cell_type": "code",
   "execution_count": null,
   "id": "65b82c49",
   "metadata": {},
   "outputs": [],
   "source": []
  },
  {
   "cell_type": "markdown",
   "id": "722a2a55",
   "metadata": {},
   "source": [
    "# <font color = royalblue>Integración de la estructura del lenguaje para la gestión de datos.</font>"
   ]
  },
  {
   "cell_type": "markdown",
   "id": "d9cd63cf",
   "metadata": {},
   "source": [
    "#### <font color = red> Ejercicios integrando todas las estructuras</font>"
   ]
  },
  {
   "cell_type": "code",
   "execution_count": null,
   "id": "11c8fdc8",
   "metadata": {},
   "outputs": [],
   "source": []
  },
  {
   "cell_type": "code",
   "execution_count": null,
   "id": "6a9ff280",
   "metadata": {},
   "outputs": [],
   "source": [
    "df"
   ]
  },
  {
   "cell_type": "code",
   "execution_count": null,
   "id": "449f7fa8",
   "metadata": {},
   "outputs": [],
   "source": []
  },
  {
   "cell_type": "markdown",
   "id": "48638ed9",
   "metadata": {},
   "source": [
    "##### A partir  del df anterior construir un diccionario usando la columna `species` para claves y la columna `petal_length` para valores"
   ]
  },
  {
   "cell_type": "code",
   "execution_count": null,
   "id": "db4631aa",
   "metadata": {},
   "outputs": [],
   "source": []
  },
  {
   "cell_type": "code",
   "execution_count": null,
   "id": "ddafdb72",
   "metadata": {},
   "outputs": [],
   "source": []
  },
  {
   "cell_type": "code",
   "execution_count": null,
   "id": "89e2fd3e",
   "metadata": {},
   "outputs": [],
   "source": []
  },
  {
   "cell_type": "code",
   "execution_count": null,
   "id": "f51666b0",
   "metadata": {},
   "outputs": [],
   "source": []
  },
  {
   "cell_type": "markdown",
   "id": "de5a7fa9",
   "metadata": {},
   "source": [
    "##### Convertir la lista de tuplas en diccinoario"
   ]
  },
  {
   "cell_type": "code",
   "execution_count": null,
   "id": "f6a5f2b1",
   "metadata": {},
   "outputs": [],
   "source": [
    "inter = [('A', 1), ('A' ,3), ('B' ,3), ('B' ,1), ('B' ,5), ('B' ,4),\n",
    "         ('C' ,4), ('C' ,3), ('C' ,7), ('C' ,8), ('D' ,2), ('D' ,8), ('D' ,7), ('D' ,9)]"
   ]
  },
  {
   "cell_type": "code",
   "execution_count": null,
   "id": "e6a4c863",
   "metadata": {},
   "outputs": [],
   "source": []
  },
  {
   "cell_type": "code",
   "execution_count": null,
   "id": "a9cedd1e",
   "metadata": {},
   "outputs": [],
   "source": []
  },
  {
   "cell_type": "code",
   "execution_count": null,
   "id": "ac8dbeb7",
   "metadata": {},
   "outputs": [],
   "source": []
  },
  {
   "cell_type": "code",
   "execution_count": null,
   "id": "18b7e7e8",
   "metadata": {},
   "outputs": [],
   "source": []
  },
  {
   "cell_type": "code",
   "execution_count": null,
   "id": "e4e4e0ee",
   "metadata": {},
   "outputs": [],
   "source": []
  },
  {
   "cell_type": "code",
   "execution_count": null,
   "id": "d56df4a3",
   "metadata": {},
   "outputs": [],
   "source": [
    "# output\n",
    "{'C': {3, 4, 7, 8}, 'D': {2, 7, 8, 9}, 'B': {1, 3, 4, 5}, 'A': {1, 3}}"
   ]
  },
  {
   "cell_type": "code",
   "execution_count": null,
   "id": "2aa8e097",
   "metadata": {},
   "outputs": [],
   "source": []
  },
  {
   "cell_type": "code",
   "execution_count": null,
   "id": "34868283",
   "metadata": {},
   "outputs": [],
   "source": []
  },
  {
   "cell_type": "markdown",
   "id": "146a4270",
   "metadata": {},
   "source": [
    "##### Convertir un diccionario a una lista"
   ]
  },
  {
   "cell_type": "code",
   "execution_count": null,
   "id": "baf0bf5e",
   "metadata": {},
   "outputs": [],
   "source": []
  },
  {
   "cell_type": "code",
   "execution_count": null,
   "id": "0a733225",
   "metadata": {},
   "outputs": [],
   "source": []
  },
  {
   "cell_type": "code",
   "execution_count": null,
   "id": "f86cbc87",
   "metadata": {},
   "outputs": [],
   "source": []
  },
  {
   "cell_type": "code",
   "execution_count": null,
   "id": "edf25599",
   "metadata": {},
   "outputs": [],
   "source": []
  },
  {
   "cell_type": "code",
   "execution_count": null,
   "id": "78be1e01",
   "metadata": {},
   "outputs": [],
   "source": []
  },
  {
   "cell_type": "markdown",
   "id": "fbe975ab",
   "metadata": {},
   "source": [
    "# <font color = royalblue> Visualizaciones usando Matplotlib. </font>\n",
    "\n",
    "##### [Writing mathematical expressions](https://matplotlib.org/stable/users/explain/text/mathtext.html#mathtext)\n",
    "\n",
    "##### [COLORMAPS](https://matplotlib.org/stable/users/explain/colors/colormaps.html)"
   ]
  },
  {
   "cell_type": "code",
   "execution_count": null,
   "id": "30c00f35",
   "metadata": {},
   "outputs": [],
   "source": []
  },
  {
   "cell_type": "code",
   "execution_count": null,
   "id": "735be492",
   "metadata": {},
   "outputs": [],
   "source": [
    "import matplotlib.pyplot as plt"
   ]
  },
  {
   "cell_type": "code",
   "execution_count": null,
   "id": "caa12a82",
   "metadata": {},
   "outputs": [],
   "source": []
  },
  {
   "cell_type": "code",
   "execution_count": null,
   "id": "1c2ea2f6",
   "metadata": {},
   "outputs": [],
   "source": []
  },
  {
   "cell_type": "markdown",
   "id": "f241b3c1",
   "metadata": {},
   "source": [
    "##### area del grafico"
   ]
  },
  {
   "cell_type": "code",
   "execution_count": null,
   "id": "6f6fcbbe",
   "metadata": {},
   "outputs": [],
   "source": [
    "fig = plt.figure(figsize=(5, 5))\n",
    "\n",
    "ax = fig.add_axes([0, 0, 1, 1])\n",
    "\n",
    "ax.set_facecolor('none')\n",
    "\n",
    "plt.close()"
   ]
  },
  {
   "cell_type": "code",
   "execution_count": null,
   "id": "e8190602",
   "metadata": {},
   "outputs": [],
   "source": []
  },
  {
   "cell_type": "markdown",
   "id": "835d5f2a",
   "metadata": {},
   "source": [
    "##### cuadrícula"
   ]
  },
  {
   "cell_type": "code",
   "execution_count": null,
   "id": "bef22140",
   "metadata": {},
   "outputs": [],
   "source": [
    "fig = plt.figure(figsize=(5, 5))\n",
    "\n",
    "ax = fig.add_axes([0, 0, 1, 1])\n",
    "\n",
    "ax.set_facecolor('none')\n",
    "\n",
    "ax.grid(color = \"whitesmoke\", which = \"both\", linewidth = 7, alpha = 1, zorder = 0)\n",
    "\n",
    "plt.close()"
   ]
  },
  {
   "cell_type": "code",
   "execution_count": null,
   "id": "6648c36f",
   "metadata": {},
   "outputs": [],
   "source": []
  },
  {
   "cell_type": "markdown",
   "id": "6c816912",
   "metadata": {},
   "source": [
    "##### elimina los bordes, algunos graficos lo requieren"
   ]
  },
  {
   "cell_type": "code",
   "execution_count": null,
   "id": "a188645a",
   "metadata": {},
   "outputs": [],
   "source": []
  },
  {
   "cell_type": "code",
   "execution_count": null,
   "id": "ec1b3a50",
   "metadata": {},
   "outputs": [],
   "source": [
    "fig = plt.figure(figsize=(5, 5))\n",
    "\n",
    "ax = fig.add_axes([0, 0, 1, 1])\n",
    "\n",
    "ax.set_facecolor('none')\n",
    "\n",
    "ax.axis('off')\n",
    "\n",
    "plt.close()"
   ]
  },
  {
   "cell_type": "code",
   "execution_count": null,
   "id": "c1e53d9a",
   "metadata": {},
   "outputs": [],
   "source": []
  },
  {
   "cell_type": "markdown",
   "id": "821365cc",
   "metadata": {},
   "source": [
    "##### Inset Plots"
   ]
  },
  {
   "cell_type": "code",
   "execution_count": null,
   "id": "4f9c7ed3",
   "metadata": {},
   "outputs": [],
   "source": []
  },
  {
   "cell_type": "code",
   "execution_count": null,
   "id": "f7d48c45",
   "metadata": {},
   "outputs": [],
   "source": [
    "fig = plt.figure(figsize=(5, 5))\n",
    "\n",
    "ax = fig.add_axes([0, 0, 1, 1])\n",
    "\n",
    "ax.set_facecolor('gold')\n",
    "\n",
    "ax1 = fig.add_axes([0.1, 0.1, 0.3, 0.3])\n",
    "\n",
    "ax1.set_facecolor('limegreen')\n",
    "\n",
    "ax2 = fig.add_axes([0.5, 0.5, 0.3, 0.3])\n",
    "\n",
    "ax2.set_facecolor('red')\n",
    "\n",
    "ax3 = fig.add_axes([1.1, 0.5, 0.3, 0.3])\n",
    "\n",
    "ax3.set_facecolor('blue')\n",
    "\n",
    "plt.close()\n"
   ]
  },
  {
   "cell_type": "code",
   "execution_count": null,
   "id": "476e2af2",
   "metadata": {},
   "outputs": [],
   "source": []
  },
  {
   "cell_type": "markdown",
   "id": "99bbf7d1",
   "metadata": {},
   "source": [
    "##### titulos en los ejes"
   ]
  },
  {
   "cell_type": "code",
   "execution_count": null,
   "id": "f2d2dbd9",
   "metadata": {},
   "outputs": [],
   "source": [
    "fig = plt.figure(figsize=(5, 5))\n",
    "\n",
    "ax = fig.add_axes([0, 0, 1, 1])\n",
    "\n",
    "ax.set_facecolor('silver')\n",
    "\n",
    "ax.set_xlabel('Tiempo ${(seg)}$', fontsize = 15)\n",
    "\n",
    "ax.set_ylabel('Eje Y ${(m)}$', fontsize = 15)\n",
    "\n",
    "plt.close()"
   ]
  },
  {
   "cell_type": "code",
   "execution_count": null,
   "id": "6fd57191",
   "metadata": {},
   "outputs": [],
   "source": []
  },
  {
   "cell_type": "markdown",
   "id": "ff249c5f",
   "metadata": {},
   "source": [
    "##### limites de los ejes"
   ]
  },
  {
   "cell_type": "code",
   "execution_count": null,
   "id": "2eb344f9",
   "metadata": {},
   "outputs": [],
   "source": []
  },
  {
   "cell_type": "code",
   "execution_count": null,
   "id": "690fa7f8",
   "metadata": {},
   "outputs": [],
   "source": [
    "fig = plt.figure(figsize=(5, 5))\n",
    "\n",
    "ax = fig.add_axes([0, 0, 1, 1])\n",
    "\n",
    "ax.set_xlim(0, 3)\n",
    "\n",
    "ax.set_ylim(0, 1)\n",
    "\n",
    "ax.set_facecolor('none')\n",
    "\n",
    "ax.set_xlabel('Eje X', fontsize = 15)\n",
    "\n",
    "ax.set_ylabel('Eje Y', fontsize = 15)\n",
    "\n",
    "plt.close()"
   ]
  },
  {
   "cell_type": "code",
   "execution_count": null,
   "id": "2a0f3147",
   "metadata": {},
   "outputs": [],
   "source": []
  },
  {
   "cell_type": "code",
   "execution_count": null,
   "id": "10d25137",
   "metadata": {},
   "outputs": [],
   "source": []
  },
  {
   "cell_type": "markdown",
   "id": "b02a716b",
   "metadata": {},
   "source": [
    "##### edicion de los ejes "
   ]
  },
  {
   "cell_type": "code",
   "execution_count": null,
   "id": "3f161e7b",
   "metadata": {},
   "outputs": [],
   "source": []
  },
  {
   "cell_type": "code",
   "execution_count": null,
   "id": "9042e547",
   "metadata": {},
   "outputs": [],
   "source": [
    "fig = plt.figure(figsize=(5, 5))\n",
    "\n",
    "ax = fig.add_axes([0, 0, 1, 1])\n",
    "\n",
    "ax.set_xlim(0, 3)\n",
    "\n",
    "ax.set_ylim(0, 1)\n",
    "\n",
    "ax.set_facecolor('none')\n",
    "\n",
    "ax.set_xlabel('Eje X', fontsize = 15)\n",
    "\n",
    "ax.set_ylabel('Eje Y', fontsize = 15)\n",
    "\n",
    "ax.set_xticks([0, 1, 2, 3])\n",
    "\n",
    "ax.set_xticklabels(['', 'A', 'B', ''], rotation = 0, fontsize = 15)\n",
    "\n",
    "ax.set_yticks([0, 0.5, 1])\n",
    "\n",
    "ax.set_yticklabels([0, 0.5, 1], rotation = 0, fontsize = 15)\n",
    "\n",
    "plt.close()"
   ]
  },
  {
   "cell_type": "code",
   "execution_count": null,
   "id": "9de61b32",
   "metadata": {},
   "outputs": [],
   "source": []
  },
  {
   "cell_type": "markdown",
   "id": "57a1c56c",
   "metadata": {},
   "source": [
    "### <font color = blue> Scatter plot\n",
    "    \n",
    "https://matplotlib.org/stable/api/_as_gen/matplotlib.axes.Axes.scatter.html"
   ]
  },
  {
   "cell_type": "code",
   "execution_count": null,
   "id": "3bab3a80",
   "metadata": {},
   "outputs": [],
   "source": []
  },
  {
   "cell_type": "code",
   "execution_count": null,
   "id": "2d0fbd46",
   "metadata": {},
   "outputs": [],
   "source": [
    "fig = plt.figure(figsize=(5, 5))\n",
    "\n",
    "ax = fig.add_axes([0, 0, 1, 1])\n",
    "\n",
    "ax.set_xlim(0, 3)\n",
    "\n",
    "ax.set_ylim(0, 3)\n",
    "\n",
    "ax.set_facecolor('none')\n",
    "\n",
    "ax.set_xlabel('Eje X', fontsize = 15)\n",
    "\n",
    "ax.set_ylabel('Eje Y', fontsize = 15)\n",
    "\n",
    "for i in [0.5, 1, 1.5, 2, 2.5]:\n",
    "    ax.scatter(i, i, s = 200, facecolor = 'red', lw = 0)\n",
    "\n",
    "\n",
    "plt.close()"
   ]
  },
  {
   "cell_type": "code",
   "execution_count": null,
   "id": "8981d390",
   "metadata": {},
   "outputs": [],
   "source": []
  },
  {
   "cell_type": "markdown",
   "id": "8ee36b7f",
   "metadata": {},
   "source": [
    "#### control de los bordes en los puntos"
   ]
  },
  {
   "cell_type": "code",
   "execution_count": null,
   "id": "20794b5e",
   "metadata": {},
   "outputs": [],
   "source": [
    "fig = plt.figure(figsize=(5, 5))\n",
    "\n",
    "ax = fig.add_axes([0, 0, 1, 1])\n",
    "\n",
    "ax.set_xlim(0, 3)\n",
    "\n",
    "ax.set_ylim(0, 3)\n",
    "\n",
    "ax.set_facecolor('none')\n",
    "\n",
    "ax.set_xlabel('Eje X', fontsize = 15)\n",
    "\n",
    "ax.set_ylabel('Eje Y', fontsize = 15)\n",
    "\n",
    "for i in [0.5, 1, 1.5, 2, 2.5]:\n",
    "    ax.scatter(i, i, s = 200, facecolor = 'gold', edgecolor = 'black', lw = i*2)\n",
    "\n",
    "plt.close()"
   ]
  },
  {
   "cell_type": "code",
   "execution_count": null,
   "id": "fc48869e",
   "metadata": {},
   "outputs": [],
   "source": []
  },
  {
   "cell_type": "code",
   "execution_count": null,
   "id": "95dee886",
   "metadata": {},
   "outputs": [],
   "source": []
  },
  {
   "cell_type": "code",
   "execution_count": null,
   "id": "211d59a7",
   "metadata": {},
   "outputs": [],
   "source": []
  },
  {
   "cell_type": "markdown",
   "id": "dfbd4d5f",
   "metadata": {},
   "source": [
    "#### asignar diferentes colores a los puntos de forma iterada\n",
    "##### Usar alguna de las siguientes listas:  \n",
    "\n",
    "`tab10 = [mpl.colors.to_hex(i) for i in cm.tab10(np.arange(10)/10.)]`\n",
    "\n",
    "`tab20 = [matplotlib.colors.to_hex(i) for i in cm.tab20(np.arange(20)/20.)]`\n",
    "\n",
    "`Set3 = [matplotlib.colors.to_hex(i) for i in cm.Set3(np.arange(12)/12.)]`\n",
    "\n",
    "`Set2 = [matplotlib.colors.to_hex(i) for i in cm.Set2(np.arange(8)/8.)]`\n",
    "\n",
    "`Set1 = [matplotlib.colors.to_hex(i) for i in cm.Set1(np.arange(9)/9.)]`\n",
    "\n",
    "`Pastel2 = [matplotlib.colors.to_hex(i) for i in cm.Pastel2(np.arange(8)/8.)]`\n",
    "\n",
    "`Dark2 = [matplotlib.colors.to_hex(i) for i in cm.Dark2(np.arange(8)/8.)]`\n",
    "\n",
    "`Paired = [matplotlib.colors.to_hex(i) for i in cm.Paired(np.arange(12)/12.)]`\n"
   ]
  },
  {
   "cell_type": "code",
   "execution_count": null,
   "id": "30f600a4",
   "metadata": {},
   "outputs": [],
   "source": []
  },
  {
   "cell_type": "code",
   "execution_count": null,
   "id": "1474b201",
   "metadata": {},
   "outputs": [],
   "source": []
  },
  {
   "cell_type": "code",
   "execution_count": null,
   "id": "f6851e58",
   "metadata": {},
   "outputs": [],
   "source": []
  },
  {
   "cell_type": "markdown",
   "id": "59cf2325",
   "metadata": {},
   "source": [
    "#### asignar etiquetas (texto) a los puntos"
   ]
  },
  {
   "cell_type": "code",
   "execution_count": null,
   "id": "d8f56694",
   "metadata": {},
   "outputs": [],
   "source": []
  },
  {
   "cell_type": "code",
   "execution_count": null,
   "id": "c79a3e95",
   "metadata": {},
   "outputs": [],
   "source": []
  },
  {
   "cell_type": "code",
   "execution_count": null,
   "id": "8f36c577",
   "metadata": {},
   "outputs": [],
   "source": []
  },
  {
   "cell_type": "markdown",
   "id": "3d2f0b62",
   "metadata": {},
   "source": [
    "#### Al plot anterior agregar una leyenda personalizada"
   ]
  },
  {
   "cell_type": "code",
   "execution_count": null,
   "id": "e1649652",
   "metadata": {},
   "outputs": [],
   "source": []
  },
  {
   "cell_type": "code",
   "execution_count": null,
   "id": "3fd5e51a",
   "metadata": {},
   "outputs": [],
   "source": []
  },
  {
   "cell_type": "code",
   "execution_count": null,
   "id": "5989b589",
   "metadata": {},
   "outputs": [],
   "source": []
  },
  {
   "cell_type": "code",
   "execution_count": null,
   "id": "1df85947",
   "metadata": {},
   "outputs": [],
   "source": []
  },
  {
   "cell_type": "markdown",
   "id": "80173431",
   "metadata": {},
   "source": [
    "#### <font color = red>A partir del dataframe de Iris crear un Scatter plot</font>\n",
    "\n",
    "##### Agrega colores a cada punto"
   ]
  },
  {
   "cell_type": "code",
   "execution_count": null,
   "id": "5bc5a6cc",
   "metadata": {},
   "outputs": [],
   "source": []
  },
  {
   "cell_type": "code",
   "execution_count": null,
   "id": "488c220f",
   "metadata": {},
   "outputs": [],
   "source": [
    "# etiquetas\n",
    "ejex_etiq = 'sepal_length'\n",
    "ejey_etiq = 'petal_length'\n",
    "ejex = df[ejex_etiq] \n",
    "ejey = df[ejey_etiq]"
   ]
  },
  {
   "cell_type": "code",
   "execution_count": null,
   "id": "e2d2a4ff",
   "metadata": {},
   "outputs": [],
   "source": []
  },
  {
   "cell_type": "code",
   "execution_count": null,
   "id": "aae4d6cb",
   "metadata": {},
   "outputs": [],
   "source": []
  },
  {
   "cell_type": "code",
   "execution_count": null,
   "id": "1f009e78",
   "metadata": {},
   "outputs": [],
   "source": []
  },
  {
   "cell_type": "code",
   "execution_count": null,
   "id": "18609c63",
   "metadata": {},
   "outputs": [],
   "source": []
  },
  {
   "cell_type": "code",
   "execution_count": null,
   "id": "7f68b96f",
   "metadata": {},
   "outputs": [],
   "source": []
  },
  {
   "cell_type": "code",
   "execution_count": null,
   "id": "961edee9",
   "metadata": {},
   "outputs": [],
   "source": []
  },
  {
   "cell_type": "code",
   "execution_count": null,
   "id": "4327c06b",
   "metadata": {},
   "outputs": [],
   "source": []
  },
  {
   "cell_type": "code",
   "execution_count": null,
   "id": "e88f65a1",
   "metadata": {},
   "outputs": [],
   "source": []
  },
  {
   "cell_type": "markdown",
   "id": "80b311c7",
   "metadata": {},
   "source": [
    "##### <font color = red>inset plot: seleccionar un rango de puntos</font>"
   ]
  },
  {
   "cell_type": "code",
   "execution_count": null,
   "id": "a2d6415a",
   "metadata": {},
   "outputs": [],
   "source": []
  },
  {
   "cell_type": "code",
   "execution_count": null,
   "id": "631102a2",
   "metadata": {},
   "outputs": [],
   "source": [
    "x1, x2, y1, y2 = 5.5, 7, 4, 6"
   ]
  },
  {
   "cell_type": "code",
   "execution_count": null,
   "id": "5453f972",
   "metadata": {},
   "outputs": [],
   "source": [
    "fig = plt.figure(figsize=(6, 6))\n",
    "\n",
    "ax = fig.add_axes([0, 0, 1, 1])\n",
    "ax.set_facecolor('none')\n",
    "\n",
    "xmin, xmax = 4, 10\n",
    "ax.set_xlim(xmin, xmax)\n",
    "\n",
    "ymin, ymax = 0, 7.5\n",
    "ax.set_ylim(ymin, ymax)\n",
    "\n",
    "ax.set_xlabel(ejex_etiq, fontsize = 15)\n",
    "\n",
    "ax.set_ylabel(ejey_etiq, fontsize = 15)\n",
    "\n",
    "U = ax.scatter(ejex, ejey, s = 70, c = 'royalblue', edgecolor = 'black', lw = 0)\n",
    "\n",
    "#x1, x2, y1, y2 = 5.5, 7, 4, 6\n",
    "\n",
    "A = [x1, x1], [y1, y2]\n",
    "ax.plot(A[0], A[1], color = 'black', lw = 1) # A\n",
    "\n",
    "B = [x1, x2], [y2, y2]\n",
    "ax.plot(B[0], B[1], color = 'black', lw = 1) # B\n",
    "\n",
    "C = [x2, x2], [y1, y2]\n",
    "ax.plot(C[0], C[1], color = 'black', lw = 1) # C\n",
    "\n",
    "D = [x1, x2], [y1, y1]\n",
    "ax.plot(D[0], D[1], color = 'black', lw = 1) # D\n",
    "\n",
    "\n",
    "X1, Y1, X2, Y2 = 0.55, 0.07, 0.4, 0.4\n",
    "\n",
    "ax.plot([x1, xmin + (xmax-xmin) * (X1)], [y1, ymax * (Y1)], color = 'black', lw = 1)\n",
    "ax.plot([x2, xmin + (xmax-xmin) * (X1 + X2)], [y2, ymax * (Y1 + Y2)], color = 'black', lw = 1)\n",
    "\n",
    "ax1 = fig.add_axes([X1, Y1, X2, Y2])\n",
    "ax1.set_facecolor('none')\n",
    "\n",
    "selx, sely = [], []\n",
    "for x, y in zip(ejex, ejey):\n",
    "    if x1 < x < x2:\n",
    "        if y1 < y < y2:\n",
    "            selx.append(x)\n",
    "            sely.append(y)\n",
    "            \n",
    "ax1.set_xlim(x1, x2)\n",
    "ax1.set_ylim(y1, y2)    \n",
    "\n",
    "ax1.scatter(selx, sely, s = 70, c = 'royalblue', edgecolor = 'black', lw = 0)\n",
    "\n",
    "\n",
    "ax1.set_yticks(list(range(y1, y2 + 1)))\n",
    "ax1.set_yticklabels([str(i) for i in list(range(y1, y2 + 1))], rotation = 0, fontsize = 10)\n",
    "\n",
    "plt.close()"
   ]
  },
  {
   "cell_type": "code",
   "execution_count": null,
   "id": "8c4430b1",
   "metadata": {},
   "outputs": [],
   "source": [
    "fig"
   ]
  },
  {
   "cell_type": "code",
   "execution_count": null,
   "id": "258189e3",
   "metadata": {},
   "outputs": [],
   "source": []
  },
  {
   "cell_type": "markdown",
   "id": "f90be185",
   "metadata": {},
   "source": [
    "# <font color = royalblue>Gráficos personalizados</font>\n",
    "\n",
    "### <font color = red>Ejercicio</font>\n",
    "\n",
    "#### A partir  de la tabla `Enrichment.txt` realizar lo siguiente:\n",
    "\n",
    "##### 1) Filtrar la tabla a un FDR < 0.05  \n",
    "##### 2) Hacer un scatter plot usando la columna Term como eje Y y el -log10(FDR) como eje X.\n",
    "##### 3) Agregar como atributo datos de la columna list_count\n",
    "##### 4) Asignar colores a cada uno de los puntos.\n",
    "##### 5) Agregar una la leyenda de escala de tamaños de puntos "
   ]
  },
  {
   "cell_type": "code",
   "execution_count": null,
   "id": "57dba236",
   "metadata": {},
   "outputs": [],
   "source": []
  },
  {
   "cell_type": "code",
   "execution_count": null,
   "id": "87e4192d",
   "metadata": {},
   "outputs": [],
   "source": []
  },
  {
   "cell_type": "code",
   "execution_count": null,
   "id": "8faa90bd",
   "metadata": {},
   "outputs": [],
   "source": []
  },
  {
   "cell_type": "code",
   "execution_count": null,
   "id": "3ffccf1e",
   "metadata": {},
   "outputs": [],
   "source": []
  },
  {
   "cell_type": "code",
   "execution_count": null,
   "id": "ce447b0a",
   "metadata": {},
   "outputs": [],
   "source": []
  },
  {
   "cell_type": "code",
   "execution_count": null,
   "id": "2282b6f2",
   "metadata": {},
   "outputs": [],
   "source": []
  },
  {
   "cell_type": "code",
   "execution_count": null,
   "id": "576e568c",
   "metadata": {},
   "outputs": [],
   "source": []
  },
  {
   "cell_type": "code",
   "execution_count": null,
   "id": "55343933",
   "metadata": {},
   "outputs": [],
   "source": []
  },
  {
   "cell_type": "code",
   "execution_count": null,
   "id": "c74ed77b",
   "metadata": {},
   "outputs": [],
   "source": []
  },
  {
   "cell_type": "code",
   "execution_count": null,
   "id": "e7219978",
   "metadata": {},
   "outputs": [],
   "source": []
  }
 ],
 "metadata": {
  "kernelspec": {
   "display_name": "Python 3",
   "language": "python",
   "name": "python3"
  },
  "language_info": {
   "codemirror_mode": {
    "name": "ipython",
    "version": 3
   },
   "file_extension": ".py",
   "mimetype": "text/x-python",
   "name": "python",
   "nbconvert_exporter": "python",
   "pygments_lexer": "ipython3",
   "version": "3.6.7"
  }
 },
 "nbformat": 4,
 "nbformat_minor": 5
}
