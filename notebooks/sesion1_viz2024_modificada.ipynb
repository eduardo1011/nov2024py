{
 "cells": [
  {
   "cell_type": "code",
   "execution_count": null,
   "id": "abd1820f",
   "metadata": {},
   "outputs": [],
   "source": []
  },
  {
   "cell_type": "markdown",
   "id": "1b3acd1b",
   "metadata": {},
   "source": [
    "# <font color = royalblue>Sesión 1 (5 horas)</font>\n",
    "### INTRODUCCIÓN y ESTRUCTURA DEL LENGUAJE\n",
    "    Qué es Python.\n",
    "    Características de Python.\n",
    "    Jupyter Notebook.\n",
    "    Variables.\n",
    "    Operadores boleanos.\n",
    "    Listas y tuplas (list, tuple).\n",
    "    Diccionarios (dict).\n",
    "    DataFrame (Pandas).\n",
    "    Condicionales if, elif y else.\n",
    "    Bucle for."
   ]
  },
  {
   "cell_type": "code",
   "execution_count": null,
   "id": "1c7d2a3d",
   "metadata": {},
   "outputs": [],
   "source": []
  },
  {
   "cell_type": "code",
   "execution_count": null,
   "id": "553567f6",
   "metadata": {},
   "outputs": [],
   "source": []
  },
  {
   "cell_type": "markdown",
   "id": "9edd5edb",
   "metadata": {},
   "source": [
    "# <font color = royalblue>Variables</font>\n",
    "\n",
    "## Una variable es una especie de caja en la que puedes guardar un objeto.\n",
    "## Esta caja ocupa un espacio en la memoria del ordenador de forma temporal.\n",
    " \n",
    "## Qué puedes guardar en una variable:\n",
    "\n",
    "|Objeto|\n",
    "|---|\n",
    "|Números (`float` = de punto flotante, `int` = enteros)|\n",
    "|Cadenas de caracteres `str = string`|\n",
    "|Arreglos|\n",
    "|Listas|\n",
    "|Diccionarios `dict`|\n",
    "|Tuplas|\n",
    "|Data Frame|\n",
    "|Conjuntos `set`|"
   ]
  },
  {
   "cell_type": "code",
   "execution_count": null,
   "id": "a4382f26",
   "metadata": {},
   "outputs": [],
   "source": []
  },
  {
   "cell_type": "code",
   "execution_count": null,
   "id": "e28c5310",
   "metadata": {},
   "outputs": [],
   "source": []
  },
  {
   "cell_type": "code",
   "execution_count": null,
   "id": "a5a448e1",
   "metadata": {},
   "outputs": [],
   "source": []
  },
  {
   "cell_type": "code",
   "execution_count": null,
   "id": "fe470ba8",
   "metadata": {},
   "outputs": [],
   "source": []
  },
  {
   "cell_type": "markdown",
   "id": "2a8675a9",
   "metadata": {},
   "source": [
    "### Funciones integradas\n",
    "\n",
    "|Función|Descripción|\n",
    "|---|---|\n",
    "|`set()`|Devuelve un conjunto|\n",
    "|`dict()`|Devuelve un diccionario|\n",
    "|`help()`|Da información sobre módulos|\n",
    "|`min()`|Devuelve el valor mínimo de una lista, arreglo o Dataframe|\n",
    "|`dir()`|Devuelve las variables definidas|\n",
    "|`enumerate()`|Enumera una lista empezando por cero|\n",
    "|`input()`|Función interactiva para ingresar valores|\n",
    "|`int()`|Devuelve núemros enteros|\n",
    "|`str()`|Devuelve un string o cadena de caracteres|\n",
    "|`sum()`|Suma los valores de una lista o arreglo|\n",
    "|`pow()`|Devuelve un valor elevado a la potencia X|\n",
    "|`float()`|Devuelve un número de punto flotante|\n",
    "|`print()`|Imprimir una variable|\n",
    "|`tuple()`|Devuelve una tupla (una lista inmutable)|\n",
    "|`len()`|Devuelve la longitud de un objeto|\n",
    "|`type()`|Devuelve el tipo del objeto|\n",
    "|`list()`|Devuelve una lista|\n",
    "|`range()`|Devuelve un rango de números|\n",
    "|`zip()`|Vuelve iterables dos elementos iterables|\n",
    "|`reversed()`|Devuelve el reverso de una lista|\n",
    "|`max()`|Devuelve el valor máximo de una lista, arreglo o Dataframe|\n",
    "|`round()`|Redondea un número de punto flotante|\n",
    "\n",
    "    Al definir variables tratar de no usar algún nombre de las funciones integradas, porque si después se desea usar la función original esto genera un error porque la función ya no existe"
   ]
  },
  {
   "cell_type": "code",
   "execution_count": null,
   "id": "066757f9",
   "metadata": {},
   "outputs": [],
   "source": []
  },
  {
   "cell_type": "markdown",
   "id": "22866c11",
   "metadata": {},
   "source": [
    "## <font color = red>Ejercicios:</font>"
   ]
  },
  {
   "cell_type": "code",
   "execution_count": null,
   "id": "0ab15b8b",
   "metadata": {},
   "outputs": [],
   "source": []
  },
  {
   "cell_type": "code",
   "execution_count": null,
   "id": "e1bb3c86",
   "metadata": {},
   "outputs": [],
   "source": []
  },
  {
   "cell_type": "code",
   "execution_count": null,
   "id": "11d83fa7",
   "metadata": {},
   "outputs": [],
   "source": []
  },
  {
   "cell_type": "markdown",
   "id": "3bf68d38",
   "metadata": {},
   "source": [
    "# <font color = royalblue>Operadores</font>\n",
    "\n",
    "### <font color = limegreen>Qué son, en qué casos los utilizamos</font> \n",
    "\n",
    "## - Los operadores son símbolos matemáticos que llevan a cabo operaciones específicas entre operandos.  \n",
    "## - Se usan cuando quieres realizar operaciones matemáticas o comparaciones\n",
    "\n",
    "\n",
    "### <font color = maroon>Operadores aritméticos</font>\n",
    "Suma `+`  \n",
    "Resta `-`  \n",
    "Negación `-`  \n",
    "Multiplicación `*`  \n",
    "Exponente `**`  \n",
    "División `/`"
   ]
  },
  {
   "cell_type": "code",
   "execution_count": null,
   "id": "0d54d1de",
   "metadata": {},
   "outputs": [],
   "source": []
  },
  {
   "cell_type": "code",
   "execution_count": null,
   "id": "b8cbd323",
   "metadata": {},
   "outputs": [],
   "source": []
  },
  {
   "cell_type": "code",
   "execution_count": null,
   "id": "b073d7bc",
   "metadata": {},
   "outputs": [],
   "source": []
  },
  {
   "cell_type": "markdown",
   "id": "ee375d7d",
   "metadata": {},
   "source": [
    "---\n",
    "### <font color = maroon>Operadores relacionales y de asignación</font>\n",
    "Menor que `<`  \n",
    "Menor o igual que `<=`   \n",
    "Mayor que `>`  \n",
    "Mayor o igual que `>=`  \n",
    "Igual que `==`  \n",
    "No es igual `!=`   \n",
    "**Los resultados boleanos siempre devuelven `False` o `True`**   \n",
    "Asignación `=`  \n",
    "También están lo de asignación aumentada `+=` y `-=`, aplicada en iteraciones"
   ]
  },
  {
   "cell_type": "code",
   "execution_count": null,
   "id": "5cc61ee1",
   "metadata": {},
   "outputs": [],
   "source": []
  },
  {
   "cell_type": "markdown",
   "id": "9d34d2e4",
   "metadata": {},
   "source": [
    "## <font color = red>Ejercicios:</font>"
   ]
  },
  {
   "cell_type": "code",
   "execution_count": null,
   "id": "d05178d4",
   "metadata": {},
   "outputs": [],
   "source": []
  },
  {
   "cell_type": "code",
   "execution_count": null,
   "id": "af66e430",
   "metadata": {},
   "outputs": [],
   "source": []
  },
  {
   "cell_type": "markdown",
   "id": "750829bf",
   "metadata": {},
   "source": [
    "# Estructura de datos"
   ]
  },
  {
   "cell_type": "code",
   "execution_count": null,
   "id": "661b8128",
   "metadata": {},
   "outputs": [],
   "source": []
  },
  {
   "cell_type": "markdown",
   "id": "d193e000",
   "metadata": {},
   "source": [
    "# <font color = royalblue>Listas y tuplas</font>\n",
    "\n",
    "* ## Son de estructura similar\n",
    "* ## Las listas están delimitadas por corchetes `[]` y las tuplas por paréntesis `()`  \n",
    "* ## Las listas son dinámicas y las tuplas estáticas (inmutables)\n",
    "* ## Pueden contener: números, cadenas, funciones, listas, tuplas, arreglos, etc.\n",
    "* ## También pueden contener diferentes objetos.\n",
    "* ## Cada valor es un elemento.\n",
    "\n",
    "El índice de los elementos empieza desde el cero `0`"
   ]
  },
  {
   "cell_type": "code",
   "execution_count": null,
   "id": "a2297758",
   "metadata": {},
   "outputs": [],
   "source": []
  },
  {
   "cell_type": "markdown",
   "id": "dfbb92aa",
   "metadata": {},
   "source": [
    "<img src=\"https://raw.githubusercontent.com/Bioinformatica2020/Anexos/master/extraccion_de_lista.jpg\" width = 80%>"
   ]
  },
  {
   "cell_type": "code",
   "execution_count": null,
   "id": "1842b8bb",
   "metadata": {},
   "outputs": [],
   "source": []
  },
  {
   "cell_type": "markdown",
   "id": "8288de6a",
   "metadata": {},
   "source": [
    "## <font color = red>Ejercicios:</font>"
   ]
  },
  {
   "cell_type": "code",
   "execution_count": null,
   "id": "4772f07a",
   "metadata": {},
   "outputs": [],
   "source": []
  },
  {
   "cell_type": "markdown",
   "id": "fe67f061",
   "metadata": {},
   "source": [
    "### <font color = limegreen>Crear una lista</font>"
   ]
  },
  {
   "cell_type": "code",
   "execution_count": null,
   "id": "326e9835",
   "metadata": {},
   "outputs": [],
   "source": []
  },
  {
   "cell_type": "code",
   "execution_count": null,
   "id": "410d6e54",
   "metadata": {},
   "outputs": [],
   "source": []
  },
  {
   "cell_type": "code",
   "execution_count": null,
   "id": "a3304321",
   "metadata": {},
   "outputs": [],
   "source": []
  },
  {
   "cell_type": "code",
   "execution_count": null,
   "id": "c4137082",
   "metadata": {},
   "outputs": [],
   "source": []
  },
  {
   "cell_type": "code",
   "execution_count": null,
   "id": "6e2961d8",
   "metadata": {},
   "outputs": [],
   "source": []
  },
  {
   "cell_type": "code",
   "execution_count": null,
   "id": "fb462ffe",
   "metadata": {},
   "outputs": [],
   "source": []
  },
  {
   "cell_type": "markdown",
   "id": "6c746060",
   "metadata": {},
   "source": [
    "### <font color = limegreen>Crear una tupla</font>"
   ]
  },
  {
   "cell_type": "code",
   "execution_count": null,
   "id": "a05da3a4",
   "metadata": {},
   "outputs": [],
   "source": []
  },
  {
   "cell_type": "code",
   "execution_count": null,
   "id": "fc33d5b8",
   "metadata": {},
   "outputs": [],
   "source": []
  },
  {
   "cell_type": "code",
   "execution_count": null,
   "id": "c53f3a8c",
   "metadata": {},
   "outputs": [],
   "source": []
  },
  {
   "cell_type": "code",
   "execution_count": null,
   "id": "70b822a7",
   "metadata": {},
   "outputs": [],
   "source": []
  },
  {
   "cell_type": "code",
   "execution_count": null,
   "id": "d83c8ae3",
   "metadata": {},
   "outputs": [],
   "source": []
  },
  {
   "cell_type": "markdown",
   "id": "48da258c",
   "metadata": {},
   "source": [
    "# <font color = royalblue>Diccionarios</font>\n",
    "\n",
    "* ## Es una estructura de datos que permite almacenar cualquier tipo de objeto\n",
    "* ## Permite identificar cada elemento por una clave\n",
    "* ## Un diccionario está delimitado por llaves {}\n",
    "* ## Las parejas clave-valor se separan por comas `,`\n",
    "* ## La clave y el valor se separan por dos puntos `:`"
   ]
  },
  {
   "cell_type": "code",
   "execution_count": null,
   "id": "54066330",
   "metadata": {},
   "outputs": [],
   "source": []
  },
  {
   "cell_type": "markdown",
   "id": "8548193e",
   "metadata": {},
   "source": [
    "## <font color = red>Ejercicios:</font>"
   ]
  },
  {
   "cell_type": "code",
   "execution_count": null,
   "id": "a910411c",
   "metadata": {},
   "outputs": [],
   "source": []
  },
  {
   "cell_type": "code",
   "execution_count": null,
   "id": "78972f80",
   "metadata": {},
   "outputs": [],
   "source": []
  },
  {
   "cell_type": "code",
   "execution_count": null,
   "id": "0aa5ce00",
   "metadata": {},
   "outputs": [],
   "source": []
  },
  {
   "cell_type": "code",
   "execution_count": null,
   "id": "037f1e01",
   "metadata": {},
   "outputs": [],
   "source": []
  },
  {
   "cell_type": "code",
   "execution_count": null,
   "id": "81ac5789",
   "metadata": {},
   "outputs": [],
   "source": []
  },
  {
   "cell_type": "code",
   "execution_count": null,
   "id": "f78085ae",
   "metadata": {},
   "outputs": [],
   "source": []
  },
  {
   "cell_type": "code",
   "execution_count": null,
   "id": "ba0f85f6",
   "metadata": {},
   "outputs": [],
   "source": []
  },
  {
   "cell_type": "code",
   "execution_count": null,
   "id": "04a1c470",
   "metadata": {},
   "outputs": [],
   "source": []
  },
  {
   "cell_type": "code",
   "execution_count": null,
   "id": "4cddd3ca",
   "metadata": {},
   "outputs": [],
   "source": []
  },
  {
   "cell_type": "code",
   "execution_count": null,
   "id": "1b0324b8",
   "metadata": {},
   "outputs": [],
   "source": []
  },
  {
   "cell_type": "markdown",
   "id": "18c20344",
   "metadata": {},
   "source": [
    "# <font color = royalblue>Condicionales: Programación estructurada</font>\n",
    "\n",
    "## <font color = maroon>Estructuras de control de flujo (condicionales)</font>\n",
    "- ## <font color = limegreen>if</font>, significa \"si\" (condición).\n",
    "- ## <font color = limegreen>elif</font>, es una segunda condición y se evalúa si `if` es `False`\n",
    "- ## <font color = limegreen>else</font>, significa \"si no\".\n",
    "## <font color = maroon>Los condicionales son las estructuras de control más importantes en toda la programación</font>\n",
    "<img src=\"https://raw.githubusercontent.com/Bioinformatica2020/Anexos/master/if_else.jpg\" width = 60%>\n",
    "\n",
    "<img src=\"https://raw.githubusercontent.com/Bioinformatica2020/Anexos/master/if_elif_else.jpg\" width = 40%>\n",
    "\n",
    "---\n",
    "Puedes ingresar a este sitio, hay varios ejemplos de condicionales  \n",
    "https://www.mclibre.org/consultar/python/lecciones/python-if-else.html\n",
    "\n",
    "---"
   ]
  },
  {
   "cell_type": "code",
   "execution_count": null,
   "id": "03d0f85d",
   "metadata": {},
   "outputs": [],
   "source": []
  },
  {
   "cell_type": "markdown",
   "id": "9e9e9228",
   "metadata": {},
   "source": [
    "## <font color = red>Ejercicios:</font>"
   ]
  },
  {
   "cell_type": "code",
   "execution_count": null,
   "id": "ca0e5f18",
   "metadata": {},
   "outputs": [],
   "source": []
  },
  {
   "cell_type": "code",
   "execution_count": null,
   "id": "3007d3ce",
   "metadata": {},
   "outputs": [],
   "source": []
  },
  {
   "cell_type": "code",
   "execution_count": null,
   "id": "5defdb13",
   "metadata": {},
   "outputs": [],
   "source": []
  },
  {
   "cell_type": "code",
   "execution_count": null,
   "id": "77545fda",
   "metadata": {},
   "outputs": [],
   "source": []
  },
  {
   "cell_type": "markdown",
   "id": "bb7e876c",
   "metadata": {},
   "source": [
    "# <font color = royalblue>Estructuras de control iterativas</font>\n",
    "---\n",
    "# <font color = orange>En informática iteración significa que se van a repetir una serie de pasos o tareas (uso de bucles)</font>\n",
    "# <font color = orange>Un bucle es una parte de código que se repite una y otra vez</font>\n",
    "---\n",
    "<img src=\"https://raw.githubusercontent.com/Bioinformatica2020/Anexos/master/for_loop.jpg\" width = 80%> <br>\n",
    "\n",
    "## Iteración <img src=\"https://raw.githubusercontent.com/Bioinformatica2020/Anexos/master/ezgif.com-crop.gif\" width = 40%> <br>"
   ]
  },
  {
   "cell_type": "code",
   "execution_count": null,
   "id": "d796709a",
   "metadata": {},
   "outputs": [],
   "source": []
  },
  {
   "cell_type": "markdown",
   "id": "2a5de55b",
   "metadata": {},
   "source": [
    "## <font color = red>Ejercicios:</font>"
   ]
  },
  {
   "cell_type": "code",
   "execution_count": null,
   "id": "8e15e15f",
   "metadata": {},
   "outputs": [],
   "source": []
  },
  {
   "cell_type": "code",
   "execution_count": null,
   "id": "381bb69a",
   "metadata": {},
   "outputs": [],
   "source": []
  },
  {
   "cell_type": "code",
   "execution_count": null,
   "id": "b74e241d",
   "metadata": {},
   "outputs": [],
   "source": []
  },
  {
   "cell_type": "code",
   "execution_count": null,
   "id": "8f510c93",
   "metadata": {},
   "outputs": [],
   "source": []
  },
  {
   "cell_type": "code",
   "execution_count": null,
   "id": "87ac7a94",
   "metadata": {},
   "outputs": [],
   "source": []
  },
  {
   "cell_type": "code",
   "execution_count": null,
   "id": "0ea1c129",
   "metadata": {},
   "outputs": [],
   "source": []
  },
  {
   "cell_type": "code",
   "execution_count": null,
   "id": "3534f501",
   "metadata": {},
   "outputs": [],
   "source": []
  },
  {
   "cell_type": "code",
   "execution_count": null,
   "id": "49205b7c",
   "metadata": {},
   "outputs": [],
   "source": []
  },
  {
   "cell_type": "code",
   "execution_count": null,
   "id": "a4bd7e9d",
   "metadata": {},
   "outputs": [],
   "source": []
  },
  {
   "cell_type": "code",
   "execution_count": null,
   "id": "87f93289",
   "metadata": {},
   "outputs": [],
   "source": []
  },
  {
   "cell_type": "code",
   "execution_count": null,
   "id": "d0954712",
   "metadata": {},
   "outputs": [],
   "source": []
  }
 ],
 "metadata": {
  "kernelspec": {
   "display_name": "Python 3",
   "language": "python",
   "name": "python3"
  },
  "language_info": {
   "codemirror_mode": {
    "name": "ipython",
    "version": 3
   },
   "file_extension": ".py",
   "mimetype": "text/x-python",
   "name": "python",
   "nbconvert_exporter": "python",
   "pygments_lexer": "ipython3",
   "version": "3.6.7"
  }
 },
 "nbformat": 4,
 "nbformat_minor": 5
}
